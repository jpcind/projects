{
 "cells": [
  {
   "cell_type": "code",
   "execution_count": 100,
   "id": "fbfbb94a-2663-488d-b537-7f8ed7099fd6",
   "metadata": {},
   "outputs": [],
   "source": [
    "# using the FRAFirm.csv data set"
   ]
  },
  {
   "cell_type": "code",
   "execution_count": 95,
   "id": "f68c9f95-4385-4524-a509-332a3e07ee42",
   "metadata": {},
   "outputs": [],
   "source": [
    "import pandas as pd\n",
    "import numpy as np\n",
    "from sklearn import metrics\n",
    "import pickle\n",
    "from sklearn import neighbors\n",
    "from sklearn import datasets\n",
    "from sklearn import metrics\n",
    "from sklearn.model_selection import train_test_split\n",
    "from sklearn.linear_model import LogisticRegression\n",
    "#%matplotlib inline\n",
    "import matplotlib.pyplot as plt\n",
    "import numpy as np\n",
    "import seaborn as sns\n",
    "import math\n",
    "import warnings\n",
    "from sklearn.preprocessing import scale\n",
    "from sklearn import preprocessing\n",
    "warnings.filterwarnings('ignore')"
   ]
  },
  {
   "cell_type": "code",
   "execution_count": 2,
   "id": "6d73a6cc-afaa-411a-b667-8bacb55f1be0",
   "metadata": {},
   "outputs": [],
   "source": [
    "df = pd.read_csv('FRAFirm.csv')\n",
    "df = df.drop_duplicates()"
   ]
  },
  {
   "cell_type": "code",
   "execution_count": 3,
   "id": "24c87d11-1063-4f81-8ca1-4e21ac1b9970",
   "metadata": {},
   "outputs": [
    {
     "data": {
      "text/html": [
       "<div>\n",
       "<style scoped>\n",
       "    .dataframe tbody tr th:only-of-type {\n",
       "        vertical-align: middle;\n",
       "    }\n",
       "\n",
       "    .dataframe tbody tr th {\n",
       "        vertical-align: top;\n",
       "    }\n",
       "\n",
       "    .dataframe thead th {\n",
       "        text-align: right;\n",
       "    }\n",
       "</style>\n",
       "<table border=\"1\" class=\"dataframe\">\n",
       "  <thead>\n",
       "    <tr style=\"text-align: right;\">\n",
       "      <th></th>\n",
       "      <th>FIRM</th>\n",
       "      <th>class</th>\n",
       "      <th>Start</th>\n",
       "      <th>End</th>\n",
       "      <th>Length</th>\n",
       "      <th>Night</th>\n",
       "      <th>Gap</th>\n",
       "      <th>WS</th>\n",
       "      <th>idx</th>\n",
       "      <th>Base</th>\n",
       "      <th>...</th>\n",
       "      <th>Trans</th>\n",
       "      <th>Press</th>\n",
       "      <th>p1s</th>\n",
       "      <th>p1l</th>\n",
       "      <th>p2s</th>\n",
       "      <th>p2l</th>\n",
       "      <th>MalAdj</th>\n",
       "      <th>NFZ</th>\n",
       "      <th>AFZ</th>\n",
       "      <th>MFZ</th>\n",
       "    </tr>\n",
       "  </thead>\n",
       "  <tbody>\n",
       "    <tr>\n",
       "      <th>0</th>\n",
       "      <td>-10</td>\n",
       "      <td>0</td>\n",
       "      <td>290</td>\n",
       "      <td>610</td>\n",
       "      <td>320</td>\n",
       "      <td>0</td>\n",
       "      <td>999</td>\n",
       "      <td>0</td>\n",
       "      <td>6</td>\n",
       "      <td>5.0</td>\n",
       "      <td>...</td>\n",
       "      <td>-4.0</td>\n",
       "      <td>-4.67</td>\n",
       "      <td>0</td>\n",
       "      <td>0</td>\n",
       "      <td>0</td>\n",
       "      <td>0</td>\n",
       "      <td>0</td>\n",
       "      <td>0</td>\n",
       "      <td>0</td>\n",
       "      <td>0</td>\n",
       "    </tr>\n",
       "    <tr>\n",
       "      <th>1</th>\n",
       "      <td>-10</td>\n",
       "      <td>0</td>\n",
       "      <td>905</td>\n",
       "      <td>1265</td>\n",
       "      <td>360</td>\n",
       "      <td>0</td>\n",
       "      <td>295</td>\n",
       "      <td>0</td>\n",
       "      <td>6</td>\n",
       "      <td>5.0</td>\n",
       "      <td>...</td>\n",
       "      <td>-4.0</td>\n",
       "      <td>-4.67</td>\n",
       "      <td>-10</td>\n",
       "      <td>320</td>\n",
       "      <td>0</td>\n",
       "      <td>0</td>\n",
       "      <td>0</td>\n",
       "      <td>0</td>\n",
       "      <td>0</td>\n",
       "      <td>0</td>\n",
       "    </tr>\n",
       "    <tr>\n",
       "      <th>2</th>\n",
       "      <td>5</td>\n",
       "      <td>0</td>\n",
       "      <td>1040</td>\n",
       "      <td>1505</td>\n",
       "      <td>465</td>\n",
       "      <td>0</td>\n",
       "      <td>999</td>\n",
       "      <td>1</td>\n",
       "      <td>1</td>\n",
       "      <td>5.0</td>\n",
       "      <td>...</td>\n",
       "      <td>0.0</td>\n",
       "      <td>0.00</td>\n",
       "      <td>-10</td>\n",
       "      <td>360</td>\n",
       "      <td>-10</td>\n",
       "      <td>320</td>\n",
       "      <td>0</td>\n",
       "      <td>0</td>\n",
       "      <td>0</td>\n",
       "      <td>0</td>\n",
       "    </tr>\n",
       "    <tr>\n",
       "      <th>3</th>\n",
       "      <td>4</td>\n",
       "      <td>0</td>\n",
       "      <td>920</td>\n",
       "      <td>1295</td>\n",
       "      <td>375</td>\n",
       "      <td>0</td>\n",
       "      <td>855</td>\n",
       "      <td>0</td>\n",
       "      <td>2</td>\n",
       "      <td>5.0</td>\n",
       "      <td>...</td>\n",
       "      <td>0.0</td>\n",
       "      <td>-0.67</td>\n",
       "      <td>5</td>\n",
       "      <td>465</td>\n",
       "      <td>-10</td>\n",
       "      <td>360</td>\n",
       "      <td>0</td>\n",
       "      <td>0</td>\n",
       "      <td>0</td>\n",
       "      <td>0</td>\n",
       "    </tr>\n",
       "    <tr>\n",
       "      <th>4</th>\n",
       "      <td>1</td>\n",
       "      <td>0</td>\n",
       "      <td>1280</td>\n",
       "      <td>1775</td>\n",
       "      <td>495</td>\n",
       "      <td>1</td>\n",
       "      <td>999</td>\n",
       "      <td>1</td>\n",
       "      <td>1</td>\n",
       "      <td>2.0</td>\n",
       "      <td>...</td>\n",
       "      <td>-1.0</td>\n",
       "      <td>0.00</td>\n",
       "      <td>4</td>\n",
       "      <td>375</td>\n",
       "      <td>5</td>\n",
       "      <td>465</td>\n",
       "      <td>0</td>\n",
       "      <td>0</td>\n",
       "      <td>0</td>\n",
       "      <td>0</td>\n",
       "    </tr>\n",
       "  </tbody>\n",
       "</table>\n",
       "<p>5 rows × 23 columns</p>\n",
       "</div>"
      ],
      "text/plain": [
       "   FIRM  class  Start   End  Length  Night  Gap  WS  idx  Base  ...  Trans  \\\n",
       "0   -10      0    290   610     320      0  999   0    6   5.0  ...   -4.0   \n",
       "1   -10      0    905  1265     360      0  295   0    6   5.0  ...   -4.0   \n",
       "2     5      0   1040  1505     465      0  999   1    1   5.0  ...    0.0   \n",
       "3     4      0    920  1295     375      0  855   0    2   5.0  ...    0.0   \n",
       "4     1      0   1280  1775     495      1  999   1    1   2.0  ...   -1.0   \n",
       "\n",
       "   Press  p1s  p1l  p2s  p2l  MalAdj  NFZ  AFZ  MFZ  \n",
       "0  -4.67    0    0    0    0       0    0    0    0  \n",
       "1  -4.67  -10  320    0    0       0    0    0    0  \n",
       "2   0.00  -10  360  -10  320       0    0    0    0  \n",
       "3  -0.67    5  465  -10  360       0    0    0    0  \n",
       "4   0.00    4  375    5  465       0    0    0    0  \n",
       "\n",
       "[5 rows x 23 columns]"
      ]
     },
     "execution_count": 3,
     "metadata": {},
     "output_type": "execute_result"
    }
   ],
   "source": [
    "df.head()"
   ]
  },
  {
   "cell_type": "code",
   "execution_count": 4,
   "id": "6dc345f6-7266-4ff2-933b-2dfd6ce848cb",
   "metadata": {},
   "outputs": [
    {
     "data": {
      "text/plain": [
       "0         True\n",
       "1         True\n",
       "2         True\n",
       "3         True\n",
       "4         True\n",
       "         ...  \n",
       "38754     True\n",
       "38755     True\n",
       "38756     True\n",
       "38757     True\n",
       "38758    False\n",
       "Name: class, Length: 37306, dtype: bool"
      ]
     },
     "execution_count": 4,
     "metadata": {},
     "output_type": "execute_result"
    }
   ],
   "source": [
    "df['class'] == 0"
   ]
  },
  {
   "cell_type": "code",
   "execution_count": 5,
   "id": "1d2be1ac-8c08-466c-9e59-ff1d9eff3a6d",
   "metadata": {},
   "outputs": [
    {
     "data": {
      "text/html": [
       "<div>\n",
       "<style scoped>\n",
       "    .dataframe tbody tr th:only-of-type {\n",
       "        vertical-align: middle;\n",
       "    }\n",
       "\n",
       "    .dataframe tbody tr th {\n",
       "        vertical-align: top;\n",
       "    }\n",
       "\n",
       "    .dataframe thead th {\n",
       "        text-align: right;\n",
       "    }\n",
       "</style>\n",
       "<table border=\"1\" class=\"dataframe\">\n",
       "  <thead>\n",
       "    <tr style=\"text-align: right;\">\n",
       "      <th></th>\n",
       "      <th>FIRM</th>\n",
       "      <th>Start</th>\n",
       "      <th>End</th>\n",
       "      <th>Length</th>\n",
       "      <th>Night</th>\n",
       "      <th>Gap</th>\n",
       "      <th>WS</th>\n",
       "      <th>idx</th>\n",
       "      <th>Base</th>\n",
       "      <th>StartAdj</th>\n",
       "      <th>...</th>\n",
       "      <th>Trans</th>\n",
       "      <th>Press</th>\n",
       "      <th>p1s</th>\n",
       "      <th>p1l</th>\n",
       "      <th>p2s</th>\n",
       "      <th>p2l</th>\n",
       "      <th>MalAdj</th>\n",
       "      <th>NFZ</th>\n",
       "      <th>AFZ</th>\n",
       "      <th>MFZ</th>\n",
       "    </tr>\n",
       "    <tr>\n",
       "      <th>class</th>\n",
       "      <th></th>\n",
       "      <th></th>\n",
       "      <th></th>\n",
       "      <th></th>\n",
       "      <th></th>\n",
       "      <th></th>\n",
       "      <th></th>\n",
       "      <th></th>\n",
       "      <th></th>\n",
       "      <th></th>\n",
       "      <th></th>\n",
       "      <th></th>\n",
       "      <th></th>\n",
       "      <th></th>\n",
       "      <th></th>\n",
       "      <th></th>\n",
       "      <th></th>\n",
       "      <th></th>\n",
       "      <th></th>\n",
       "      <th></th>\n",
       "      <th></th>\n",
       "    </tr>\n",
       "  </thead>\n",
       "  <tbody>\n",
       "    <tr>\n",
       "      <th>0</th>\n",
       "      <td>34862</td>\n",
       "      <td>34862</td>\n",
       "      <td>34862</td>\n",
       "      <td>34862</td>\n",
       "      <td>34862</td>\n",
       "      <td>34862</td>\n",
       "      <td>34862</td>\n",
       "      <td>34862</td>\n",
       "      <td>34862</td>\n",
       "      <td>34862</td>\n",
       "      <td>...</td>\n",
       "      <td>34862</td>\n",
       "      <td>34862</td>\n",
       "      <td>34862</td>\n",
       "      <td>34862</td>\n",
       "      <td>34862</td>\n",
       "      <td>34862</td>\n",
       "      <td>34862</td>\n",
       "      <td>34862</td>\n",
       "      <td>34862</td>\n",
       "      <td>34862</td>\n",
       "    </tr>\n",
       "    <tr>\n",
       "      <th>1</th>\n",
       "      <td>1779</td>\n",
       "      <td>1779</td>\n",
       "      <td>1779</td>\n",
       "      <td>1779</td>\n",
       "      <td>1779</td>\n",
       "      <td>1779</td>\n",
       "      <td>1779</td>\n",
       "      <td>1779</td>\n",
       "      <td>1779</td>\n",
       "      <td>1779</td>\n",
       "      <td>...</td>\n",
       "      <td>1779</td>\n",
       "      <td>1779</td>\n",
       "      <td>1779</td>\n",
       "      <td>1779</td>\n",
       "      <td>1779</td>\n",
       "      <td>1779</td>\n",
       "      <td>1779</td>\n",
       "      <td>1779</td>\n",
       "      <td>1779</td>\n",
       "      <td>1779</td>\n",
       "    </tr>\n",
       "    <tr>\n",
       "      <th>2</th>\n",
       "      <td>665</td>\n",
       "      <td>665</td>\n",
       "      <td>665</td>\n",
       "      <td>665</td>\n",
       "      <td>665</td>\n",
       "      <td>665</td>\n",
       "      <td>665</td>\n",
       "      <td>665</td>\n",
       "      <td>665</td>\n",
       "      <td>665</td>\n",
       "      <td>...</td>\n",
       "      <td>665</td>\n",
       "      <td>665</td>\n",
       "      <td>665</td>\n",
       "      <td>665</td>\n",
       "      <td>665</td>\n",
       "      <td>665</td>\n",
       "      <td>665</td>\n",
       "      <td>665</td>\n",
       "      <td>665</td>\n",
       "      <td>665</td>\n",
       "    </tr>\n",
       "  </tbody>\n",
       "</table>\n",
       "<p>3 rows × 22 columns</p>\n",
       "</div>"
      ],
      "text/plain": [
       "        FIRM  Start    End  Length  Night    Gap     WS    idx   Base  \\\n",
       "class                                                                   \n",
       "0      34862  34862  34862   34862  34862  34862  34862  34862  34862   \n",
       "1       1779   1779   1779    1779   1779   1779   1779   1779   1779   \n",
       "2        665    665    665     665    665    665    665    665    665   \n",
       "\n",
       "       StartAdj  ...  Trans  Press    p1s    p1l    p2s    p2l  MalAdj    NFZ  \\\n",
       "class            ...                                                            \n",
       "0         34862  ...  34862  34862  34862  34862  34862  34862   34862  34862   \n",
       "1          1779  ...   1779   1779   1779   1779   1779   1779    1779   1779   \n",
       "2           665  ...    665    665    665    665    665    665     665    665   \n",
       "\n",
       "         AFZ    MFZ  \n",
       "class                \n",
       "0      34862  34862  \n",
       "1       1779   1779  \n",
       "2        665    665  \n",
       "\n",
       "[3 rows x 22 columns]"
      ]
     },
     "execution_count": 5,
     "metadata": {},
     "output_type": "execute_result"
    }
   ],
   "source": [
    "df.groupby('class').count()"
   ]
  },
  {
   "cell_type": "code",
   "execution_count": 6,
   "id": "c1996cdd-52a5-4897-ac02-eb648ee98694",
   "metadata": {},
   "outputs": [
    {
     "name": "stdout",
     "output_type": "stream",
     "text": [
      "Number of incidents with no accident: 34862\n"
     ]
    }
   ],
   "source": [
    "accident0 = df['class'].value_counts()[0]\n",
    "print(\"Number of incidents with no accident:\", accident0)"
   ]
  },
  {
   "cell_type": "code",
   "execution_count": 7,
   "id": "6509edf3-85bd-448e-8caf-b5d0c2c923c7",
   "metadata": {},
   "outputs": [
    {
     "name": "stdout",
     "output_type": "stream",
     "text": [
      "Number of incidents with class 1 accidents: 1779\n"
     ]
    }
   ],
   "source": [
    "accident1 = df['class'].value_counts()[1]\n",
    "print(\"Number of incidents with class 1 accidents:\", accident1)"
   ]
  },
  {
   "cell_type": "code",
   "execution_count": 8,
   "id": "fa3ce870-2b57-485a-9ab9-55327d19865b",
   "metadata": {},
   "outputs": [
    {
     "name": "stdout",
     "output_type": "stream",
     "text": [
      "Number of incidents with class 2 accidents: 665\n"
     ]
    }
   ],
   "source": [
    "accident2 = df['class'].value_counts()[2]\n",
    "print(\"Number of incidents with class 2 accidents:\", accident2)"
   ]
  },
  {
   "cell_type": "code",
   "execution_count": 9,
   "id": "490ebe8d-c493-4e94-89be-7e45fd85c739",
   "metadata": {},
   "outputs": [],
   "source": [
    "# normalize accident percentage\n",
    "total_accidents = accident0 + accident1 + accident2\n",
    "norm_accident0 = accident0 / total_accidents\n",
    "norm_accident1 = accident1 / total_accidents\n",
    "norm_accident2 = accident2 / total_accidents"
   ]
  },
  {
   "cell_type": "code",
   "execution_count": 10,
   "id": "ca0fe0c7-7649-4fc8-a6dc-379508a2d03b",
   "metadata": {},
   "outputs": [
    {
     "name": "stdout",
     "output_type": "stream",
     "text": [
      "0.934487749959792\n",
      "Of all the incidents, there is a 0.934 chance of no accident\n"
     ]
    }
   ],
   "source": [
    "print(norm_accident0)\n",
    "print(\"Of all the incidents, there is a {} chance of no accident\".format(round(norm_accident0, 3)))"
   ]
  },
  {
   "cell_type": "code",
   "execution_count": 11,
   "id": "6a582e83-bce7-4b6d-bd5f-1492ee2f9dfc",
   "metadata": {},
   "outputs": [
    {
     "name": "stdout",
     "output_type": "stream",
     "text": [
      "0.04768669919047874\n",
      "Of all the incidents, there is a 0.048 chance of class 1 accident\n"
     ]
    }
   ],
   "source": [
    "print(norm_accident1)\n",
    "print(\"Of all the incidents, there is a {} chance of class 1 accident\".format(round(norm_accident1, 3)))"
   ]
  },
  {
   "cell_type": "code",
   "execution_count": 12,
   "id": "70209450-e653-4110-9d9f-ef1ffce58f6b",
   "metadata": {},
   "outputs": [
    {
     "name": "stdout",
     "output_type": "stream",
     "text": [
      "0.017825550849729265\n",
      "Of all the incidents, there is a 0.018 chance of class 2 accident\n"
     ]
    }
   ],
   "source": [
    "print(norm_accident2)\n",
    "print(\"Of all the incidents, there is a {} chance of class 2 accident\".format(round(norm_accident2, 3)))"
   ]
  },
  {
   "cell_type": "code",
   "execution_count": 13,
   "id": "b2ecf9c2-a9c7-4acb-b6c6-07d2febeb3c3",
   "metadata": {},
   "outputs": [
    {
     "name": "stdout",
     "output_type": "stream",
     "text": [
      "Incident 1 occurs 2.68 times more than incident 2\n"
     ]
    }
   ],
   "source": [
    "# how many times does accident 1 occur than accident 2\n",
    "x = norm_accident1 / norm_accident2\n",
    "print(\"Incident 1 occurs {} times more than incident 2\".format(round(x, 2)))\n"
   ]
  },
  {
   "cell_type": "code",
   "execution_count": 14,
   "id": "ea6cf9c1-181b-430e-b659-357d5108e9fa",
   "metadata": {},
   "outputs": [
    {
     "name": "stdout",
     "output_type": "stream",
     "text": [
      "FIRM\n",
      "class\n",
      "Start\n",
      "End\n",
      "Length\n",
      "Night\n",
      "Gap\n",
      "WS\n",
      "idx\n",
      "Base\n",
      "StartAdj\n",
      "LenAdj\n",
      "Comp\n",
      "Trans\n",
      "Press\n",
      "p1s\n",
      "p1l\n",
      "p2s\n",
      "p2l\n",
      "MalAdj\n",
      "NFZ\n",
      "AFZ\n",
      "MFZ\n"
     ]
    }
   ],
   "source": [
    "# printing out all column names\n",
    "for col in df.columns:\n",
    "    print(col)"
   ]
  },
  {
   "cell_type": "code",
   "execution_count": 15,
   "id": "7e78876a-d07d-4923-ad86-e40e7dfcd808",
   "metadata": {},
   "outputs": [
    {
     "data": {
      "text/plain": [
       "0         290\n",
       "1         905\n",
       "2        1040\n",
       "3         920\n",
       "4        1280\n",
       "         ... \n",
       "38754     855\n",
       "38755     105\n",
       "38756     360\n",
       "38757     720\n",
       "38758    1245\n",
       "Name: Start, Length: 37306, dtype: int64"
      ]
     },
     "execution_count": 15,
     "metadata": {},
     "output_type": "execute_result"
    }
   ],
   "source": [
    "df['Start']"
   ]
  },
  {
   "cell_type": "code",
   "execution_count": 16,
   "id": "5e0e0a7e-3118-4478-bc67-c1811b36c479",
   "metadata": {},
   "outputs": [
    {
     "data": {
      "text/plain": [
       "245"
      ]
     },
     "execution_count": 16,
     "metadata": {},
     "output_type": "execute_result"
    }
   ],
   "source": [
    "df['End'].min()"
   ]
  },
  {
   "cell_type": "code",
   "execution_count": 17,
   "id": "7de373ef-3e48-4fc9-8af8-fadc9d9bacbe",
   "metadata": {},
   "outputs": [],
   "source": [
    "# function to get average\n",
    "def find_average(my_list):\n",
    "    counter = 0\n",
    "    for ele in my_list:\n",
    "        counter += ele\n",
    "    return round(counter / len(my_list))"
   ]
  },
  {
   "cell_type": "code",
   "execution_count": 18,
   "id": "75d0c556-1e13-4fe0-8171-032f53f2f73d",
   "metadata": {},
   "outputs": [],
   "source": [
    "def normalize(instances, my_list):\n",
    "    return round(instances / sum(my_list), 3)"
   ]
  },
  {
   "cell_type": "code",
   "execution_count": 19,
   "id": "f07ce19b-550a-42a6-8d48-2346a42dfba8",
   "metadata": {},
   "outputs": [],
   "source": [
    "# finding average of min length\n",
    "min0 = df.loc[df['class'] == 0, 'Length'].min()\n",
    "min1 = df.loc[df['class'] == 1, 'Length'].min()\n",
    "min2 = df.loc[df['class'] == 2, 'Length'].min()\n",
    "\n",
    "max0 = df.loc[df['class'] == 0, 'Length'].max()\n",
    "max1 = df.loc[df['class'] == 1, 'Length'].max()\n",
    "max2 = df.loc[df['class'] == 2, 'Length'].max()"
   ]
  },
  {
   "cell_type": "code",
   "execution_count": 20,
   "id": "3b0b5419-e852-468f-988e-3ec8bab63402",
   "metadata": {},
   "outputs": [
    {
     "name": "stdout",
     "output_type": "stream",
     "text": [
      "249\n",
      "1372\n"
     ]
    }
   ],
   "source": [
    "min_list = [min0, min1, min2]\n",
    "max_list = [max0, max1, max2]\n",
    "print(find_average(min_list))\n",
    "print(find_average(max_list))"
   ]
  },
  {
   "cell_type": "code",
   "execution_count": 21,
   "id": "08075ff6-5ed1-430e-8fa1-9f339ab9fe85",
   "metadata": {},
   "outputs": [],
   "source": [
    "# splitting lengths into 3 parts\n",
    "temp = find_average(max_list) - find_average(min_list)\n",
    "temp = round(temp / 3)\n",
    "first_increment = find_average(min_list) + temp\n",
    "second_increment = find_average(min_list) + temp * 2\n",
    "third_increment = find_average(min_list) + temp * 3"
   ]
  },
  {
   "cell_type": "code",
   "execution_count": null,
   "id": "1c8da8af-2726-434d-9212-7aa8cb410587",
   "metadata": {},
   "outputs": [],
   "source": []
  },
  {
   "cell_type": "markdown",
   "id": "d7983ee9-c59b-4a03-8c82-efd47cb4409e",
   "metadata": {},
   "source": [
    "I wanted to find out if Length had any correlation to the type of incident that occurs. "
   ]
  },
  {
   "cell_type": "code",
   "execution_count": 22,
   "id": "01342826-d177-4ff3-ad17-84f801b78157",
   "metadata": {},
   "outputs": [],
   "source": [
    "length_class0 = df.loc[df['class'] == 0, 'Length']\n",
    "length_class1 = df.loc[df['class'] == 1, 'Length']\n",
    "length_class2 = df.loc[df['class'] == 2, 'Length']"
   ]
  },
  {
   "cell_type": "code",
   "execution_count": 23,
   "id": "d4afd881-016c-4afb-ae1a-a9fe2b8c7e7e",
   "metadata": {
    "tags": []
   },
   "outputs": [],
   "source": [
    "# lowLength0 = []\n",
    "# midLength0 = []\n",
    "# highLength0 = []\n",
    "# for row in length_class0:\n",
    "#     if row < 470:\n",
    "#         lowLength0.append(row)\n",
    "#     elif row < 940:\n",
    "#         midLength0.append(row)\n",
    "#     else:\n",
    "#         highLength0.append(row)"
   ]
  },
  {
   "cell_type": "code",
   "execution_count": 24,
   "id": "256a15a9-2ddc-426e-bcf1-f309b84875f9",
   "metadata": {},
   "outputs": [],
   "source": [
    "# there are 8907 instances where Length is considered \"low\"\n",
    "# when there are no accidents\n",
    "# print(len(lowLength0))\n",
    "# print(len(midLength0))\n",
    "# print(len(highLength0))"
   ]
  },
  {
   "cell_type": "code",
   "execution_count": 25,
   "id": "56529b79-0e3c-4067-9c83-a3e33e466940",
   "metadata": {},
   "outputs": [],
   "source": [
    "def lowmidhigh_length(my_column):\n",
    "    lowLength = []\n",
    "    midLength = []\n",
    "    highLength = []\n",
    "    for row in my_column:\n",
    "        if row < first_increment: \n",
    "            lowLength.append(row)\n",
    "        elif row < second_increment:\n",
    "            midLength.append(row)\n",
    "        else:\n",
    "            highLength.append(row)\n",
    "    return lowLength, midLength, highLength"
   ]
  },
  {
   "cell_type": "code",
   "execution_count": null,
   "id": "8d5d584c-5958-44d6-a887-e92185c3684a",
   "metadata": {},
   "outputs": [],
   "source": []
  },
  {
   "cell_type": "code",
   "execution_count": null,
   "id": "af5353ae-724c-43f3-9a97-1d47c0079637",
   "metadata": {},
   "outputs": [],
   "source": []
  },
  {
   "cell_type": "code",
   "execution_count": 26,
   "id": "1bd75168-6824-43de-ac26-4c216cf64ac8",
   "metadata": {},
   "outputs": [],
   "source": [
    "low0 = len(lowmidhigh_length(length_class0)[0])\n",
    "mid0 = len(lowmidhigh_length(length_class0)[1])\n",
    "high0 = len(lowmidhigh_length(length_class0)[2])\n",
    "\n",
    "low1 = len(lowmidhigh_length(length_class1)[0])\n",
    "mid1 = len(lowmidhigh_length(length_class1)[1])\n",
    "high1 = len(lowmidhigh_length(length_class1)[2])\n",
    "\n",
    "low2 = len(lowmidhigh_length(length_class2)[0])\n",
    "mid2 = len(lowmidhigh_length(length_class2)[1])\n",
    "high2 = len(lowmidhigh_length(length_class2)[2])"
   ]
  },
  {
   "cell_type": "markdown",
   "id": "ce87db33-0e34-4c46-b697-e58b41b0ed50",
   "metadata": {},
   "source": [
    "Most accidents occur when length is between 623 and 997"
   ]
  },
  {
   "cell_type": "code",
   "execution_count": 27,
   "id": "6749e7f2-1eb4-45fe-ae99-ac595545e0fe",
   "metadata": {},
   "outputs": [
    {
     "name": "stdout",
     "output_type": "stream",
     "text": [
      "Incident 0; 19365 occurances where Length is considered low: below 623\n",
      "Incident 0; 15352 occurances where Length is considered mid: below 997\n",
      "Incident 0; 145 occurances where Length is considered high: below 1371\n",
      "0.555\n",
      "0.44\n",
      "0.004\n"
     ]
    }
   ],
   "source": [
    "print(\"Incident 0; {} occurances where Length is considered low: below {}\".format(low0, first_increment))\n",
    "print(\"Incident 0; {} occurances where Length is considered mid: below {}\".format(mid0, second_increment))\n",
    "print(\"Incident 0; {} occurances where Length is considered high: below {}\".format(high0, third_increment))\n",
    "print(normalize(low0, [low0, mid0, high0]))\n",
    "print(normalize(mid0, [low0, mid0, high0]))\n",
    "print(normalize(high0, [low0, mid0, high0]))"
   ]
  },
  {
   "cell_type": "code",
   "execution_count": 28,
   "id": "a0103910-eb1f-4576-8985-2b8223f0875b",
   "metadata": {},
   "outputs": [
    {
     "name": "stdout",
     "output_type": "stream",
     "text": [
      "Incident 1; 232 occurances where Length is considered low: below 623\n",
      "Incident 1; 1408 occurances where Length is considered mid: below 997\n",
      "Incident 1; 139 occurances where Length is considered high: below 1371\n",
      "0.13\n",
      "0.791\n",
      "0.078\n"
     ]
    }
   ],
   "source": [
    "print(\"Incident 1; {} occurances where Length is considered low: below {}\".format(low1, first_increment))\n",
    "print(\"Incident 1; {} occurances where Length is considered mid: below {}\".format(mid1, second_increment))\n",
    "print(\"Incident 1; {} occurances where Length is considered high: below {}\".format(high1, third_increment))\n",
    "print(normalize(low1, [low1, mid1, high1]))\n",
    "print(normalize(mid1, [low1, mid1, high1]))\n",
    "print(normalize(high1, [low1, mid1, high1]))"
   ]
  },
  {
   "cell_type": "code",
   "execution_count": 29,
   "id": "2fd5ef2f-1e76-4d4c-b374-8a496fef8569",
   "metadata": {},
   "outputs": [
    {
     "name": "stdout",
     "output_type": "stream",
     "text": [
      "Incident 2; 156 occurances where Length is considered low: below 623\n",
      "Incident 2; 443 occurances where Length is considered mid: below 997\n",
      "Incident 2; 66 occurances where Length is considered high: below 1371\n",
      "0.235\n",
      "0.666\n",
      "0.099\n"
     ]
    }
   ],
   "source": [
    "print(\"Incident 2; {} occurances where Length is considered low: below {}\".format(low2, first_increment))\n",
    "print(\"Incident 2; {} occurances where Length is considered mid: below {}\".format(mid2, second_increment))\n",
    "print(\"Incident 2; {} occurances where Length is considered high: below {}\".format(high2, third_increment))\n",
    "print(normalize(low2, [low2, mid2, high2]))\n",
    "print(normalize(mid2, [low2, mid2, high2]))\n",
    "print(normalize(high2, [low2, mid2, high2]))"
   ]
  },
  {
   "cell_type": "markdown",
   "id": "7c896229-1d7f-4510-94e9-3073d58c6ac7",
   "metadata": {},
   "source": [
    "Given the features, can we predict if an accident will occur? \n",
    "\n",
    "And if so, will it be of type 1 or type 2?"
   ]
  },
  {
   "cell_type": "code",
   "execution_count": 30,
   "id": "f155d1ae-2734-4333-84a4-fca170c69bab",
   "metadata": {},
   "outputs": [
    {
     "name": "stdout",
     "output_type": "stream",
     "text": [
      "0.02\n"
     ]
    }
   ],
   "source": [
    "# chance of accident when length is low (below 623)\n",
    "print(round(1 - normalize(low0, [low0, low1, low2]), 3))"
   ]
  },
  {
   "cell_type": "code",
   "execution_count": 31,
   "id": "2c91e698-d1bc-455f-bfc3-1c584e04c7e0",
   "metadata": {},
   "outputs": [
    {
     "name": "stdout",
     "output_type": "stream",
     "text": [
      "2056\n"
     ]
    }
   ],
   "source": [
    "# chance of accident when length is mid and high (above 623)\n",
    "number_of_accidents = mid1 + mid2 + high1 + high2\n",
    "list_of_accidents = [low1]\n",
    "# print(round(normalize(mid1+high1, [])))\n",
    "print(number_of_accidents)"
   ]
  },
  {
   "cell_type": "markdown",
   "id": "24a82918-0d8b-4d9d-a941-0b73612f72bb",
   "metadata": {},
   "source": [
    "Chance of accidents: "
   ]
  },
  {
   "cell_type": "code",
   "execution_count": 32,
   "id": "d6e1d75c-31a3-4939-a985-17939c0ce3e3",
   "metadata": {},
   "outputs": [],
   "source": [
    "def minutesToHours(minutes):\n",
    "    hours = minutes / 60\n",
    "    seconds = (hours % 1) * 60\n",
    "    return (\"{} hrs {} mins\".format(math.floor(hours),round(seconds)))"
   ]
  },
  {
   "cell_type": "code",
   "execution_count": 33,
   "id": "5c0de132-ffec-46f2-8001-7915b14bfd5a",
   "metadata": {},
   "outputs": [
    {
     "name": "stdout",
     "output_type": "stream",
     "text": [
      "16 hrs 37 mins\n"
     ]
    }
   ],
   "source": [
    "x = 997\n",
    "temp_x = minutesToHours(x)\n",
    "print(temp_x)"
   ]
  },
  {
   "cell_type": "code",
   "execution_count": 34,
   "id": "3740aac4-dbe6-432b-8183-4db3e38db1b6",
   "metadata": {},
   "outputs": [
    {
     "name": "stdout",
     "output_type": "stream",
     "text": [
      "Chance of accident (incident 1) when working under 10 hrs 23 mins: 0.012\n"
     ]
    }
   ],
   "source": [
    "# chance of accident (incident 1) occurin when low length (below 623)\n",
    "low_acc1_chance = normalize(low1, [low0, low1, low2])\n",
    "print(\"Chance of accident (incident 1) when working under {}: {}\".format(minutesToHours(623), low_acc1_chance))"
   ]
  },
  {
   "cell_type": "code",
   "execution_count": 35,
   "id": "caa479de-1378-491c-aa2c-55b60b006aa1",
   "metadata": {},
   "outputs": [
    {
     "name": "stdout",
     "output_type": "stream",
     "text": [
      "Chance of accident (incident 1) when working between 10 hrs 23 mins and 16 hrs 37 mins: 0.082\n"
     ]
    }
   ],
   "source": [
    "# chance of accident (incident 1) happening when mid length (between 623 and 997)\n",
    "mid_acc1_chance = normalize(mid1, [mid0,mid1,mid2])\n",
    "print(\"Chance of accident (incident 1) when working between {} and {}: {}\".format(minutesToHours(623), minutesToHours(997), mid_acc1_chance))"
   ]
  },
  {
   "cell_type": "code",
   "execution_count": 36,
   "id": "8f22989b-c1e9-452c-8c9a-da3776f37ca8",
   "metadata": {},
   "outputs": [
    {
     "name": "stdout",
     "output_type": "stream",
     "text": [
      "Chance of accident (incident 1) when working more than 16 hrs 37 mins: 0.397\n"
     ]
    }
   ],
   "source": [
    "# chance of accident (incident 1) occuring when high length (more than 997)\n",
    "high_acc1_chance = normalize(high1, [high0, high1, high2])\n",
    "print(\"Chance of accident (incident 1) when working more than {}: {}\".format(minutesToHours(997), high_acc1_chance))"
   ]
  },
  {
   "cell_type": "code",
   "execution_count": 37,
   "id": "f2261fb0-1521-49d2-b713-ecc94bc81095",
   "metadata": {},
   "outputs": [
    {
     "name": "stdout",
     "output_type": "stream",
     "text": [
      "Chance of accident (incident 2) when working under 10 hrs 23 mins: 0.008\n"
     ]
    }
   ],
   "source": [
    "# chance of accident (incident 2) occuring when low length (below 623)\n",
    "low_acc2_chance = normalize(low2, [low0, low1, low2])\n",
    "print(\"Chance of accident (incident 2) when working under {}: {}\".format(minutesToHours(623), low_acc2_chance))"
   ]
  },
  {
   "cell_type": "code",
   "execution_count": 38,
   "id": "5400338a-6758-4bfb-8316-10d033ce7deb",
   "metadata": {},
   "outputs": [
    {
     "name": "stdout",
     "output_type": "stream",
     "text": [
      "Chance of accident (incident 2) when working between 10 hrs 23 mins and 16 hrs 37 mins: 0.026\n"
     ]
    }
   ],
   "source": [
    "# chance of accident (incident 2) occuring when mid length (between 623 and 997)\n",
    "mid_acc2_chance = normalize(mid2, [mid0, mid1, mid2])\n",
    "print(\"Chance of accident (incident 2) when working between {} and {}: {}\".format(minutesToHours(623), minutesToHours(997), mid_acc2_chance))"
   ]
  },
  {
   "cell_type": "code",
   "execution_count": 39,
   "id": "48eb9c21-fb4a-4c35-aae4-22c2802f25c2",
   "metadata": {},
   "outputs": [
    {
     "name": "stdout",
     "output_type": "stream",
     "text": [
      "Chance of accident (incident 2) when working more than 16 hrs 37 mins: 0.189\n"
     ]
    }
   ],
   "source": [
    "# chance of accident (incident 2) occuring when high length (more than 997)\n",
    "high_acc2_chance = normalize(high2, [high0, high1, high2])\n",
    "print(\"Chance of accident (incident 2) when working more than {}: {}\".format(minutesToHours(997), high_acc2_chance))"
   ]
  },
  {
   "cell_type": "markdown",
   "id": "756cb78f-78bf-4d93-ae39-71b1948e49c9",
   "metadata": {},
   "source": [
    "So what do these numbers mean? If we find a worker that is currently working less than 10 hours and 23 minutes, the chances of an accident (specifically incident 1) occuring would be around 1.2%. The chance of an accident (incident 2) occuring would be around 0.8%. If we selected a random worker and asked, \"How long have you been working?\" and they answer that they have been working between 10 hours 23 minutes and 16 hours 37 minutes, the chance of an accident (incident 1) of occuring becomes 8.2%, while the chance of an accident (incident 2) of occuring rises to 2.6%. But things seem to turn for the worst if a worker exheeds 16 hours 37 minutes. After 16 hours 37 minutes, incident 1 shoots up to 39.7%, while incident 2 shoots up to 18.9%. "
   ]
  },
  {
   "cell_type": "code",
   "execution_count": 40,
   "id": "b06a3601-1d2b-4c7e-9a86-d75c5a3d50df",
   "metadata": {},
   "outputs": [
    {
     "data": {
      "text/plain": [
       "array([0, 1])"
      ]
     },
     "execution_count": 40,
     "metadata": {},
     "output_type": "execute_result"
    }
   ],
   "source": [
    "df['Night'].unique()"
   ]
  },
  {
   "cell_type": "code",
   "execution_count": 41,
   "id": "7d334dd3-e5ca-41f9-a51b-2f5cd0a8af23",
   "metadata": {},
   "outputs": [
    {
     "data": {
      "text/html": [
       "<div>\n",
       "<style scoped>\n",
       "    .dataframe tbody tr th:only-of-type {\n",
       "        vertical-align: middle;\n",
       "    }\n",
       "\n",
       "    .dataframe tbody tr th {\n",
       "        vertical-align: top;\n",
       "    }\n",
       "\n",
       "    .dataframe thead th {\n",
       "        text-align: right;\n",
       "    }\n",
       "</style>\n",
       "<table border=\"1\" class=\"dataframe\">\n",
       "  <thead>\n",
       "    <tr style=\"text-align: right;\">\n",
       "      <th></th>\n",
       "      <th>Night</th>\n",
       "      <th>Length</th>\n",
       "      <th>class</th>\n",
       "    </tr>\n",
       "  </thead>\n",
       "  <tbody>\n",
       "    <tr>\n",
       "      <th>0</th>\n",
       "      <td>0</td>\n",
       "      <td>320</td>\n",
       "      <td>0</td>\n",
       "    </tr>\n",
       "    <tr>\n",
       "      <th>1</th>\n",
       "      <td>0</td>\n",
       "      <td>360</td>\n",
       "      <td>0</td>\n",
       "    </tr>\n",
       "    <tr>\n",
       "      <th>2</th>\n",
       "      <td>0</td>\n",
       "      <td>465</td>\n",
       "      <td>0</td>\n",
       "    </tr>\n",
       "    <tr>\n",
       "      <th>3</th>\n",
       "      <td>0</td>\n",
       "      <td>375</td>\n",
       "      <td>0</td>\n",
       "    </tr>\n",
       "    <tr>\n",
       "      <th>4</th>\n",
       "      <td>1</td>\n",
       "      <td>495</td>\n",
       "      <td>0</td>\n",
       "    </tr>\n",
       "    <tr>\n",
       "      <th>...</th>\n",
       "      <td>...</td>\n",
       "      <td>...</td>\n",
       "      <td>...</td>\n",
       "    </tr>\n",
       "    <tr>\n",
       "      <th>38754</th>\n",
       "      <td>0</td>\n",
       "      <td>420</td>\n",
       "      <td>0</td>\n",
       "    </tr>\n",
       "    <tr>\n",
       "      <th>38755</th>\n",
       "      <td>1</td>\n",
       "      <td>375</td>\n",
       "      <td>0</td>\n",
       "    </tr>\n",
       "    <tr>\n",
       "      <th>38756</th>\n",
       "      <td>0</td>\n",
       "      <td>520</td>\n",
       "      <td>0</td>\n",
       "    </tr>\n",
       "    <tr>\n",
       "      <th>38757</th>\n",
       "      <td>0</td>\n",
       "      <td>555</td>\n",
       "      <td>0</td>\n",
       "    </tr>\n",
       "    <tr>\n",
       "      <th>38758</th>\n",
       "      <td>1</td>\n",
       "      <td>790</td>\n",
       "      <td>1</td>\n",
       "    </tr>\n",
       "  </tbody>\n",
       "</table>\n",
       "<p>37306 rows × 3 columns</p>\n",
       "</div>"
      ],
      "text/plain": [
       "       Night  Length  class\n",
       "0          0     320      0\n",
       "1          0     360      0\n",
       "2          0     465      0\n",
       "3          0     375      0\n",
       "4          1     495      0\n",
       "...      ...     ...    ...\n",
       "38754      0     420      0\n",
       "38755      1     375      0\n",
       "38756      0     520      0\n",
       "38757      0     555      0\n",
       "38758      1     790      1\n",
       "\n",
       "[37306 rows x 3 columns]"
      ]
     },
     "execution_count": 41,
     "metadata": {},
     "output_type": "execute_result"
    }
   ],
   "source": [
    "df[['Night', 'Length', 'class']]"
   ]
  },
  {
   "cell_type": "markdown",
   "id": "718ea749-11a6-40ac-9673-85494abeef66",
   "metadata": {},
   "source": [
    "Is there a correlation between Night, Length, and class"
   ]
  },
  {
   "cell_type": "code",
   "execution_count": 42,
   "id": "d748ee5a-d039-405e-9427-e42403dc3e46",
   "metadata": {},
   "outputs": [],
   "source": [
    "# make separate dfs with night = 0 and night = 1\n",
    "df_dayTime = df.loc[df['Night'] == 0]\n",
    "df_nightTime = df.loc[df['Night'] == 1]"
   ]
  },
  {
   "cell_type": "code",
   "execution_count": 43,
   "id": "3b826ac6-e18b-4c43-a6e1-a40403e7b241",
   "metadata": {},
   "outputs": [
    {
     "data": {
      "text/plain": [
       "21925"
      ]
     },
     "execution_count": 43,
     "metadata": {},
     "output_type": "execute_result"
    }
   ],
   "source": [
    "len(df_dayTime)"
   ]
  },
  {
   "cell_type": "code",
   "execution_count": 44,
   "id": "6b1e5309-fb9c-49d8-8a6e-8b5044c5b31d",
   "metadata": {},
   "outputs": [
    {
     "data": {
      "text/plain": [
       "15381"
      ]
     },
     "execution_count": 44,
     "metadata": {},
     "output_type": "execute_result"
    }
   ],
   "source": [
    "len(df_nightTime)"
   ]
  },
  {
   "cell_type": "code",
   "execution_count": 45,
   "id": "8745f9ac-f1b7-4cd0-9ec4-33e73e5c0a5d",
   "metadata": {},
   "outputs": [
    {
     "data": {
      "text/plain": [
       "21925"
      ]
     },
     "execution_count": 45,
     "metadata": {},
     "output_type": "execute_result"
    }
   ],
   "source": [
    "len(df.loc[df_dayTime['class']] == 1)"
   ]
  },
  {
   "cell_type": "code",
   "execution_count": 46,
   "id": "5f810efb-ea33-437e-9128-1daa0d1fe9f5",
   "metadata": {},
   "outputs": [
    {
     "data": {
      "text/html": [
       "<div>\n",
       "<style scoped>\n",
       "    .dataframe tbody tr th:only-of-type {\n",
       "        vertical-align: middle;\n",
       "    }\n",
       "\n",
       "    .dataframe tbody tr th {\n",
       "        vertical-align: top;\n",
       "    }\n",
       "\n",
       "    .dataframe thead th {\n",
       "        text-align: right;\n",
       "    }\n",
       "</style>\n",
       "<table border=\"1\" class=\"dataframe\">\n",
       "  <thead>\n",
       "    <tr style=\"text-align: right;\">\n",
       "      <th></th>\n",
       "      <th>FIRM</th>\n",
       "      <th>class</th>\n",
       "      <th>Start</th>\n",
       "      <th>End</th>\n",
       "      <th>Length</th>\n",
       "      <th>Night</th>\n",
       "      <th>Gap</th>\n",
       "      <th>WS</th>\n",
       "      <th>idx</th>\n",
       "      <th>Base</th>\n",
       "      <th>...</th>\n",
       "      <th>Trans</th>\n",
       "      <th>Press</th>\n",
       "      <th>p1s</th>\n",
       "      <th>p1l</th>\n",
       "      <th>p2s</th>\n",
       "      <th>p2l</th>\n",
       "      <th>MalAdj</th>\n",
       "      <th>NFZ</th>\n",
       "      <th>AFZ</th>\n",
       "      <th>MFZ</th>\n",
       "    </tr>\n",
       "  </thead>\n",
       "  <tbody>\n",
       "    <tr>\n",
       "      <th>0</th>\n",
       "      <td>False</td>\n",
       "      <td>True</td>\n",
       "      <td>False</td>\n",
       "      <td>False</td>\n",
       "      <td>False</td>\n",
       "      <td>True</td>\n",
       "      <td>False</td>\n",
       "      <td>True</td>\n",
       "      <td>False</td>\n",
       "      <td>False</td>\n",
       "      <td>...</td>\n",
       "      <td>False</td>\n",
       "      <td>False</td>\n",
       "      <td>True</td>\n",
       "      <td>True</td>\n",
       "      <td>True</td>\n",
       "      <td>True</td>\n",
       "      <td>True</td>\n",
       "      <td>True</td>\n",
       "      <td>True</td>\n",
       "      <td>True</td>\n",
       "    </tr>\n",
       "    <tr>\n",
       "      <th>0</th>\n",
       "      <td>False</td>\n",
       "      <td>True</td>\n",
       "      <td>False</td>\n",
       "      <td>False</td>\n",
       "      <td>False</td>\n",
       "      <td>True</td>\n",
       "      <td>False</td>\n",
       "      <td>True</td>\n",
       "      <td>False</td>\n",
       "      <td>False</td>\n",
       "      <td>...</td>\n",
       "      <td>False</td>\n",
       "      <td>False</td>\n",
       "      <td>True</td>\n",
       "      <td>True</td>\n",
       "      <td>True</td>\n",
       "      <td>True</td>\n",
       "      <td>True</td>\n",
       "      <td>True</td>\n",
       "      <td>True</td>\n",
       "      <td>True</td>\n",
       "    </tr>\n",
       "    <tr>\n",
       "      <th>0</th>\n",
       "      <td>False</td>\n",
       "      <td>True</td>\n",
       "      <td>False</td>\n",
       "      <td>False</td>\n",
       "      <td>False</td>\n",
       "      <td>True</td>\n",
       "      <td>False</td>\n",
       "      <td>True</td>\n",
       "      <td>False</td>\n",
       "      <td>False</td>\n",
       "      <td>...</td>\n",
       "      <td>False</td>\n",
       "      <td>False</td>\n",
       "      <td>True</td>\n",
       "      <td>True</td>\n",
       "      <td>True</td>\n",
       "      <td>True</td>\n",
       "      <td>True</td>\n",
       "      <td>True</td>\n",
       "      <td>True</td>\n",
       "      <td>True</td>\n",
       "    </tr>\n",
       "    <tr>\n",
       "      <th>0</th>\n",
       "      <td>False</td>\n",
       "      <td>True</td>\n",
       "      <td>False</td>\n",
       "      <td>False</td>\n",
       "      <td>False</td>\n",
       "      <td>True</td>\n",
       "      <td>False</td>\n",
       "      <td>True</td>\n",
       "      <td>False</td>\n",
       "      <td>False</td>\n",
       "      <td>...</td>\n",
       "      <td>False</td>\n",
       "      <td>False</td>\n",
       "      <td>True</td>\n",
       "      <td>True</td>\n",
       "      <td>True</td>\n",
       "      <td>True</td>\n",
       "      <td>True</td>\n",
       "      <td>True</td>\n",
       "      <td>True</td>\n",
       "      <td>True</td>\n",
       "    </tr>\n",
       "    <tr>\n",
       "      <th>0</th>\n",
       "      <td>False</td>\n",
       "      <td>True</td>\n",
       "      <td>False</td>\n",
       "      <td>False</td>\n",
       "      <td>False</td>\n",
       "      <td>True</td>\n",
       "      <td>False</td>\n",
       "      <td>True</td>\n",
       "      <td>False</td>\n",
       "      <td>False</td>\n",
       "      <td>...</td>\n",
       "      <td>False</td>\n",
       "      <td>False</td>\n",
       "      <td>True</td>\n",
       "      <td>True</td>\n",
       "      <td>True</td>\n",
       "      <td>True</td>\n",
       "      <td>True</td>\n",
       "      <td>True</td>\n",
       "      <td>True</td>\n",
       "      <td>True</td>\n",
       "    </tr>\n",
       "    <tr>\n",
       "      <th>...</th>\n",
       "      <td>...</td>\n",
       "      <td>...</td>\n",
       "      <td>...</td>\n",
       "      <td>...</td>\n",
       "      <td>...</td>\n",
       "      <td>...</td>\n",
       "      <td>...</td>\n",
       "      <td>...</td>\n",
       "      <td>...</td>\n",
       "      <td>...</td>\n",
       "      <td>...</td>\n",
       "      <td>...</td>\n",
       "      <td>...</td>\n",
       "      <td>...</td>\n",
       "      <td>...</td>\n",
       "      <td>...</td>\n",
       "      <td>...</td>\n",
       "      <td>...</td>\n",
       "      <td>...</td>\n",
       "      <td>...</td>\n",
       "      <td>...</td>\n",
       "    </tr>\n",
       "    <tr>\n",
       "      <th>0</th>\n",
       "      <td>False</td>\n",
       "      <td>True</td>\n",
       "      <td>False</td>\n",
       "      <td>False</td>\n",
       "      <td>False</td>\n",
       "      <td>True</td>\n",
       "      <td>False</td>\n",
       "      <td>True</td>\n",
       "      <td>False</td>\n",
       "      <td>False</td>\n",
       "      <td>...</td>\n",
       "      <td>False</td>\n",
       "      <td>False</td>\n",
       "      <td>True</td>\n",
       "      <td>True</td>\n",
       "      <td>True</td>\n",
       "      <td>True</td>\n",
       "      <td>True</td>\n",
       "      <td>True</td>\n",
       "      <td>True</td>\n",
       "      <td>True</td>\n",
       "    </tr>\n",
       "    <tr>\n",
       "      <th>0</th>\n",
       "      <td>False</td>\n",
       "      <td>True</td>\n",
       "      <td>False</td>\n",
       "      <td>False</td>\n",
       "      <td>False</td>\n",
       "      <td>True</td>\n",
       "      <td>False</td>\n",
       "      <td>True</td>\n",
       "      <td>False</td>\n",
       "      <td>False</td>\n",
       "      <td>...</td>\n",
       "      <td>False</td>\n",
       "      <td>False</td>\n",
       "      <td>True</td>\n",
       "      <td>True</td>\n",
       "      <td>True</td>\n",
       "      <td>True</td>\n",
       "      <td>True</td>\n",
       "      <td>True</td>\n",
       "      <td>True</td>\n",
       "      <td>True</td>\n",
       "    </tr>\n",
       "    <tr>\n",
       "      <th>0</th>\n",
       "      <td>False</td>\n",
       "      <td>True</td>\n",
       "      <td>False</td>\n",
       "      <td>False</td>\n",
       "      <td>False</td>\n",
       "      <td>True</td>\n",
       "      <td>False</td>\n",
       "      <td>True</td>\n",
       "      <td>False</td>\n",
       "      <td>False</td>\n",
       "      <td>...</td>\n",
       "      <td>False</td>\n",
       "      <td>False</td>\n",
       "      <td>True</td>\n",
       "      <td>True</td>\n",
       "      <td>True</td>\n",
       "      <td>True</td>\n",
       "      <td>True</td>\n",
       "      <td>True</td>\n",
       "      <td>True</td>\n",
       "      <td>True</td>\n",
       "    </tr>\n",
       "    <tr>\n",
       "      <th>0</th>\n",
       "      <td>False</td>\n",
       "      <td>True</td>\n",
       "      <td>False</td>\n",
       "      <td>False</td>\n",
       "      <td>False</td>\n",
       "      <td>True</td>\n",
       "      <td>False</td>\n",
       "      <td>True</td>\n",
       "      <td>False</td>\n",
       "      <td>False</td>\n",
       "      <td>...</td>\n",
       "      <td>False</td>\n",
       "      <td>False</td>\n",
       "      <td>True</td>\n",
       "      <td>True</td>\n",
       "      <td>True</td>\n",
       "      <td>True</td>\n",
       "      <td>True</td>\n",
       "      <td>True</td>\n",
       "      <td>True</td>\n",
       "      <td>True</td>\n",
       "    </tr>\n",
       "    <tr>\n",
       "      <th>0</th>\n",
       "      <td>False</td>\n",
       "      <td>True</td>\n",
       "      <td>False</td>\n",
       "      <td>False</td>\n",
       "      <td>False</td>\n",
       "      <td>True</td>\n",
       "      <td>False</td>\n",
       "      <td>True</td>\n",
       "      <td>False</td>\n",
       "      <td>False</td>\n",
       "      <td>...</td>\n",
       "      <td>False</td>\n",
       "      <td>False</td>\n",
       "      <td>True</td>\n",
       "      <td>True</td>\n",
       "      <td>True</td>\n",
       "      <td>True</td>\n",
       "      <td>True</td>\n",
       "      <td>True</td>\n",
       "      <td>True</td>\n",
       "      <td>True</td>\n",
       "    </tr>\n",
       "  </tbody>\n",
       "</table>\n",
       "<p>21925 rows × 23 columns</p>\n",
       "</div>"
      ],
      "text/plain": [
       "     FIRM  class  Start    End  Length  Night    Gap    WS    idx   Base  ...  \\\n",
       "0   False   True  False  False   False   True  False  True  False  False  ...   \n",
       "0   False   True  False  False   False   True  False  True  False  False  ...   \n",
       "0   False   True  False  False   False   True  False  True  False  False  ...   \n",
       "0   False   True  False  False   False   True  False  True  False  False  ...   \n",
       "0   False   True  False  False   False   True  False  True  False  False  ...   \n",
       "..    ...    ...    ...    ...     ...    ...    ...   ...    ...    ...  ...   \n",
       "0   False   True  False  False   False   True  False  True  False  False  ...   \n",
       "0   False   True  False  False   False   True  False  True  False  False  ...   \n",
       "0   False   True  False  False   False   True  False  True  False  False  ...   \n",
       "0   False   True  False  False   False   True  False  True  False  False  ...   \n",
       "0   False   True  False  False   False   True  False  True  False  False  ...   \n",
       "\n",
       "    Trans  Press   p1s   p1l   p2s   p2l  MalAdj   NFZ   AFZ   MFZ  \n",
       "0   False  False  True  True  True  True    True  True  True  True  \n",
       "0   False  False  True  True  True  True    True  True  True  True  \n",
       "0   False  False  True  True  True  True    True  True  True  True  \n",
       "0   False  False  True  True  True  True    True  True  True  True  \n",
       "0   False  False  True  True  True  True    True  True  True  True  \n",
       "..    ...    ...   ...   ...   ...   ...     ...   ...   ...   ...  \n",
       "0   False  False  True  True  True  True    True  True  True  True  \n",
       "0   False  False  True  True  True  True    True  True  True  True  \n",
       "0   False  False  True  True  True  True    True  True  True  True  \n",
       "0   False  False  True  True  True  True    True  True  True  True  \n",
       "0   False  False  True  True  True  True    True  True  True  True  \n",
       "\n",
       "[21925 rows x 23 columns]"
      ]
     },
     "execution_count": 46,
     "metadata": {},
     "output_type": "execute_result"
    }
   ],
   "source": [
    "df.loc[df_dayTime['class']] == 0"
   ]
  },
  {
   "cell_type": "code",
   "execution_count": 47,
   "id": "41cab07c-83c7-4719-be12-d90d59d7ae42",
   "metadata": {},
   "outputs": [
    {
     "data": {
      "text/html": [
       "<div>\n",
       "<style scoped>\n",
       "    .dataframe tbody tr th:only-of-type {\n",
       "        vertical-align: middle;\n",
       "    }\n",
       "\n",
       "    .dataframe tbody tr th {\n",
       "        vertical-align: top;\n",
       "    }\n",
       "\n",
       "    .dataframe thead th {\n",
       "        text-align: right;\n",
       "    }\n",
       "</style>\n",
       "<table border=\"1\" class=\"dataframe\">\n",
       "  <thead>\n",
       "    <tr style=\"text-align: right;\">\n",
       "      <th></th>\n",
       "      <th>FIRM</th>\n",
       "      <th>Start</th>\n",
       "      <th>End</th>\n",
       "      <th>Length</th>\n",
       "      <th>Night</th>\n",
       "      <th>Gap</th>\n",
       "      <th>WS</th>\n",
       "      <th>idx</th>\n",
       "      <th>Base</th>\n",
       "      <th>StartAdj</th>\n",
       "      <th>...</th>\n",
       "      <th>Trans</th>\n",
       "      <th>Press</th>\n",
       "      <th>p1s</th>\n",
       "      <th>p1l</th>\n",
       "      <th>p2s</th>\n",
       "      <th>p2l</th>\n",
       "      <th>MalAdj</th>\n",
       "      <th>NFZ</th>\n",
       "      <th>AFZ</th>\n",
       "      <th>MFZ</th>\n",
       "    </tr>\n",
       "    <tr>\n",
       "      <th>class</th>\n",
       "      <th></th>\n",
       "      <th></th>\n",
       "      <th></th>\n",
       "      <th></th>\n",
       "      <th></th>\n",
       "      <th></th>\n",
       "      <th></th>\n",
       "      <th></th>\n",
       "      <th></th>\n",
       "      <th></th>\n",
       "      <th></th>\n",
       "      <th></th>\n",
       "      <th></th>\n",
       "      <th></th>\n",
       "      <th></th>\n",
       "      <th></th>\n",
       "      <th></th>\n",
       "      <th></th>\n",
       "      <th></th>\n",
       "      <th></th>\n",
       "      <th></th>\n",
       "    </tr>\n",
       "  </thead>\n",
       "  <tbody>\n",
       "    <tr>\n",
       "      <th>0</th>\n",
       "      <td>20839</td>\n",
       "      <td>20839</td>\n",
       "      <td>20839</td>\n",
       "      <td>20839</td>\n",
       "      <td>20839</td>\n",
       "      <td>20839</td>\n",
       "      <td>20839</td>\n",
       "      <td>20839</td>\n",
       "      <td>20839</td>\n",
       "      <td>20839</td>\n",
       "      <td>...</td>\n",
       "      <td>20839</td>\n",
       "      <td>20839</td>\n",
       "      <td>20839</td>\n",
       "      <td>20839</td>\n",
       "      <td>20839</td>\n",
       "      <td>20839</td>\n",
       "      <td>20839</td>\n",
       "      <td>20839</td>\n",
       "      <td>20839</td>\n",
       "      <td>20839</td>\n",
       "    </tr>\n",
       "    <tr>\n",
       "      <th>1</th>\n",
       "      <td>788</td>\n",
       "      <td>788</td>\n",
       "      <td>788</td>\n",
       "      <td>788</td>\n",
       "      <td>788</td>\n",
       "      <td>788</td>\n",
       "      <td>788</td>\n",
       "      <td>788</td>\n",
       "      <td>788</td>\n",
       "      <td>788</td>\n",
       "      <td>...</td>\n",
       "      <td>788</td>\n",
       "      <td>788</td>\n",
       "      <td>788</td>\n",
       "      <td>788</td>\n",
       "      <td>788</td>\n",
       "      <td>788</td>\n",
       "      <td>788</td>\n",
       "      <td>788</td>\n",
       "      <td>788</td>\n",
       "      <td>788</td>\n",
       "    </tr>\n",
       "    <tr>\n",
       "      <th>2</th>\n",
       "      <td>298</td>\n",
       "      <td>298</td>\n",
       "      <td>298</td>\n",
       "      <td>298</td>\n",
       "      <td>298</td>\n",
       "      <td>298</td>\n",
       "      <td>298</td>\n",
       "      <td>298</td>\n",
       "      <td>298</td>\n",
       "      <td>298</td>\n",
       "      <td>...</td>\n",
       "      <td>298</td>\n",
       "      <td>298</td>\n",
       "      <td>298</td>\n",
       "      <td>298</td>\n",
       "      <td>298</td>\n",
       "      <td>298</td>\n",
       "      <td>298</td>\n",
       "      <td>298</td>\n",
       "      <td>298</td>\n",
       "      <td>298</td>\n",
       "    </tr>\n",
       "  </tbody>\n",
       "</table>\n",
       "<p>3 rows × 22 columns</p>\n",
       "</div>"
      ],
      "text/plain": [
       "        FIRM  Start    End  Length  Night    Gap     WS    idx   Base  \\\n",
       "class                                                                   \n",
       "0      20839  20839  20839   20839  20839  20839  20839  20839  20839   \n",
       "1        788    788    788     788    788    788    788    788    788   \n",
       "2        298    298    298     298    298    298    298    298    298   \n",
       "\n",
       "       StartAdj  ...  Trans  Press    p1s    p1l    p2s    p2l  MalAdj    NFZ  \\\n",
       "class            ...                                                            \n",
       "0         20839  ...  20839  20839  20839  20839  20839  20839   20839  20839   \n",
       "1           788  ...    788    788    788    788    788    788     788    788   \n",
       "2           298  ...    298    298    298    298    298    298     298    298   \n",
       "\n",
       "         AFZ    MFZ  \n",
       "class                \n",
       "0      20839  20839  \n",
       "1        788    788  \n",
       "2        298    298  \n",
       "\n",
       "[3 rows x 22 columns]"
      ]
     },
     "execution_count": 47,
     "metadata": {},
     "output_type": "execute_result"
    }
   ],
   "source": [
    "df_dayTime.groupby('class').count()"
   ]
  },
  {
   "cell_type": "code",
   "execution_count": 48,
   "id": "cc4211c9-40d1-452a-bc43-7847b77d3c63",
   "metadata": {},
   "outputs": [
    {
     "data": {
      "text/html": [
       "<div>\n",
       "<style scoped>\n",
       "    .dataframe tbody tr th:only-of-type {\n",
       "        vertical-align: middle;\n",
       "    }\n",
       "\n",
       "    .dataframe tbody tr th {\n",
       "        vertical-align: top;\n",
       "    }\n",
       "\n",
       "    .dataframe thead th {\n",
       "        text-align: right;\n",
       "    }\n",
       "</style>\n",
       "<table border=\"1\" class=\"dataframe\">\n",
       "  <thead>\n",
       "    <tr style=\"text-align: right;\">\n",
       "      <th></th>\n",
       "      <th>FIRM</th>\n",
       "      <th>Start</th>\n",
       "      <th>End</th>\n",
       "      <th>Length</th>\n",
       "      <th>Night</th>\n",
       "      <th>Gap</th>\n",
       "      <th>WS</th>\n",
       "      <th>idx</th>\n",
       "      <th>Base</th>\n",
       "      <th>StartAdj</th>\n",
       "      <th>...</th>\n",
       "      <th>Trans</th>\n",
       "      <th>Press</th>\n",
       "      <th>p1s</th>\n",
       "      <th>p1l</th>\n",
       "      <th>p2s</th>\n",
       "      <th>p2l</th>\n",
       "      <th>MalAdj</th>\n",
       "      <th>NFZ</th>\n",
       "      <th>AFZ</th>\n",
       "      <th>MFZ</th>\n",
       "    </tr>\n",
       "    <tr>\n",
       "      <th>class</th>\n",
       "      <th></th>\n",
       "      <th></th>\n",
       "      <th></th>\n",
       "      <th></th>\n",
       "      <th></th>\n",
       "      <th></th>\n",
       "      <th></th>\n",
       "      <th></th>\n",
       "      <th></th>\n",
       "      <th></th>\n",
       "      <th></th>\n",
       "      <th></th>\n",
       "      <th></th>\n",
       "      <th></th>\n",
       "      <th></th>\n",
       "      <th></th>\n",
       "      <th></th>\n",
       "      <th></th>\n",
       "      <th></th>\n",
       "      <th></th>\n",
       "      <th></th>\n",
       "    </tr>\n",
       "  </thead>\n",
       "  <tbody>\n",
       "    <tr>\n",
       "      <th>0</th>\n",
       "      <td>14023</td>\n",
       "      <td>14023</td>\n",
       "      <td>14023</td>\n",
       "      <td>14023</td>\n",
       "      <td>14023</td>\n",
       "      <td>14023</td>\n",
       "      <td>14023</td>\n",
       "      <td>14023</td>\n",
       "      <td>14023</td>\n",
       "      <td>14023</td>\n",
       "      <td>...</td>\n",
       "      <td>14023</td>\n",
       "      <td>14023</td>\n",
       "      <td>14023</td>\n",
       "      <td>14023</td>\n",
       "      <td>14023</td>\n",
       "      <td>14023</td>\n",
       "      <td>14023</td>\n",
       "      <td>14023</td>\n",
       "      <td>14023</td>\n",
       "      <td>14023</td>\n",
       "    </tr>\n",
       "    <tr>\n",
       "      <th>1</th>\n",
       "      <td>991</td>\n",
       "      <td>991</td>\n",
       "      <td>991</td>\n",
       "      <td>991</td>\n",
       "      <td>991</td>\n",
       "      <td>991</td>\n",
       "      <td>991</td>\n",
       "      <td>991</td>\n",
       "      <td>991</td>\n",
       "      <td>991</td>\n",
       "      <td>...</td>\n",
       "      <td>991</td>\n",
       "      <td>991</td>\n",
       "      <td>991</td>\n",
       "      <td>991</td>\n",
       "      <td>991</td>\n",
       "      <td>991</td>\n",
       "      <td>991</td>\n",
       "      <td>991</td>\n",
       "      <td>991</td>\n",
       "      <td>991</td>\n",
       "    </tr>\n",
       "    <tr>\n",
       "      <th>2</th>\n",
       "      <td>367</td>\n",
       "      <td>367</td>\n",
       "      <td>367</td>\n",
       "      <td>367</td>\n",
       "      <td>367</td>\n",
       "      <td>367</td>\n",
       "      <td>367</td>\n",
       "      <td>367</td>\n",
       "      <td>367</td>\n",
       "      <td>367</td>\n",
       "      <td>...</td>\n",
       "      <td>367</td>\n",
       "      <td>367</td>\n",
       "      <td>367</td>\n",
       "      <td>367</td>\n",
       "      <td>367</td>\n",
       "      <td>367</td>\n",
       "      <td>367</td>\n",
       "      <td>367</td>\n",
       "      <td>367</td>\n",
       "      <td>367</td>\n",
       "    </tr>\n",
       "  </tbody>\n",
       "</table>\n",
       "<p>3 rows × 22 columns</p>\n",
       "</div>"
      ],
      "text/plain": [
       "        FIRM  Start    End  Length  Night    Gap     WS    idx   Base  \\\n",
       "class                                                                   \n",
       "0      14023  14023  14023   14023  14023  14023  14023  14023  14023   \n",
       "1        991    991    991     991    991    991    991    991    991   \n",
       "2        367    367    367     367    367    367    367    367    367   \n",
       "\n",
       "       StartAdj  ...  Trans  Press    p1s    p1l    p2s    p2l  MalAdj    NFZ  \\\n",
       "class            ...                                                            \n",
       "0         14023  ...  14023  14023  14023  14023  14023  14023   14023  14023   \n",
       "1           991  ...    991    991    991    991    991    991     991    991   \n",
       "2           367  ...    367    367    367    367    367    367     367    367   \n",
       "\n",
       "         AFZ    MFZ  \n",
       "class                \n",
       "0      14023  14023  \n",
       "1        991    991  \n",
       "2        367    367  \n",
       "\n",
       "[3 rows x 22 columns]"
      ]
     },
     "execution_count": 48,
     "metadata": {},
     "output_type": "execute_result"
    }
   ],
   "source": [
    "df_nightTime.groupby('class').count()"
   ]
  },
  {
   "cell_type": "code",
   "execution_count": 49,
   "id": "6ededd9a-5463-45bb-8276-aa67c5f236f1",
   "metadata": {},
   "outputs": [],
   "source": [
    "accident0 = df['class'].value_counts()[0]"
   ]
  },
  {
   "cell_type": "code",
   "execution_count": 50,
   "id": "965a02f0-1fd4-454d-a1cc-a5e1ecbfebe2",
   "metadata": {},
   "outputs": [
    {
     "data": {
      "text/plain": [
       "34862"
      ]
     },
     "execution_count": 50,
     "metadata": {},
     "output_type": "execute_result"
    }
   ],
   "source": [
    "accident0"
   ]
  },
  {
   "cell_type": "code",
   "execution_count": 51,
   "id": "ad72bc8a-804b-46c0-9f9e-32c7bf646ce6",
   "metadata": {},
   "outputs": [],
   "source": [
    "# num of classes based on day\n",
    "class0_dayTime = df_dayTime['class'].value_counts()[0]\n",
    "class1_dayTime = df_dayTime['class'].value_counts()[1]\n",
    "class2_dayTime = df_dayTime['class'].value_counts()[2]"
   ]
  },
  {
   "cell_type": "code",
   "execution_count": 52,
   "id": "b04024e9-44ff-43cd-9fc1-6197908e20ee",
   "metadata": {},
   "outputs": [],
   "source": [
    "# num of classes based on night\n",
    "class0_nightTime = df_nightTime['class'].value_counts()[0]\n",
    "class1_nightTime = df_nightTime['class'].value_counts()[1]\n",
    "class2_nightTime = df_nightTime['class'].value_counts()[2]"
   ]
  },
  {
   "cell_type": "code",
   "execution_count": 53,
   "id": "098ab6db-17c8-42e3-9ac4-183b226b5036",
   "metadata": {},
   "outputs": [],
   "source": [
    "temp = [class0_dayTime, class1_dayTime, class2_dayTime,\n",
    "       class0_nightTime, class1_nightTime, class2_nightTime]"
   ]
  },
  {
   "cell_type": "code",
   "execution_count": 54,
   "id": "d487f5ec-0144-4eb5-b3c6-9c126106877a",
   "metadata": {},
   "outputs": [],
   "source": [
    "dayTime_list = []\n",
    "nightTime_list = []\n",
    "for i, j in enumerate(temp):\n",
    "    if i < 3:\n",
    "        dayTime_list.append(j)\n",
    "    else:\n",
    "        nightTime_list.append(j)"
   ]
  },
  {
   "cell_type": "code",
   "execution_count": 55,
   "id": "e3f1898f-313d-459b-aac5-7efe0aac93c8",
   "metadata": {},
   "outputs": [
    {
     "name": "stdout",
     "output_type": "stream",
     "text": [
      "[20839, 788, 298]\n",
      "[14023, 991, 367]\n"
     ]
    }
   ],
   "source": [
    "# number of separate classes for day time and night time\n",
    "print(dayTime_list)\n",
    "print(nightTime_list)"
   ]
  },
  {
   "cell_type": "code",
   "execution_count": 56,
   "id": "35602c3f-e673-40e9-9596-1324a7722e8e",
   "metadata": {},
   "outputs": [],
   "source": [
    "## normalize daytime list and nightime list"
   ]
  },
  {
   "cell_type": "code",
   "execution_count": 57,
   "id": "a51b984e-2564-48a4-9bf8-d4066b70b787",
   "metadata": {},
   "outputs": [],
   "source": [
    "dayAccPerc = round(1 - normalize(dayTime_list[0], dayTime_list), 3)"
   ]
  },
  {
   "cell_type": "code",
   "execution_count": 58,
   "id": "604e2496-e4bd-4777-8336-7d1e82b5c3f4",
   "metadata": {},
   "outputs": [],
   "source": [
    "nightAccPerc = round(1 - normalize(nightTime_list[0], nightTime_list), 3)"
   ]
  },
  {
   "cell_type": "code",
   "execution_count": 59,
   "id": "2bd73459-3e52-4536-9b0a-2cb9c65faad5",
   "metadata": {},
   "outputs": [
    {
     "name": "stdout",
     "output_type": "stream",
     "text": [
      "Chance for accident during the day: 0.05\n"
     ]
    }
   ],
   "source": [
    "print(\"Chance for accident during the day: {}\".format(dayAccPerc))"
   ]
  },
  {
   "cell_type": "code",
   "execution_count": 60,
   "id": "13471586-faa5-44c2-9a62-5e88f4e823c9",
   "metadata": {},
   "outputs": [
    {
     "name": "stdout",
     "output_type": "stream",
     "text": [
      "Chance for accident during the night: 0.088\n"
     ]
    }
   ],
   "source": [
    "print(\"Chance for accident during the night: {}\".format(nightAccPerc))"
   ]
  },
  {
   "cell_type": "code",
   "execution_count": 61,
   "id": "6a7669c2-88a9-4782-9c1f-b46938f68323",
   "metadata": {},
   "outputs": [
    {
     "name": "stdout",
     "output_type": "stream",
     "text": [
      "Accidents occur 1.76 times more often at night than the day\n"
     ]
    }
   ],
   "source": [
    "# How many more accidents happen during the night?\n",
    "x = round((nightAccPerc / dayAccPerc), 3)\n",
    "print(\"Accidents occur {} times more often at night than the day\".format(x))"
   ]
  },
  {
   "cell_type": "markdown",
   "id": "72c07f1a-0f3a-4aea-b255-3b42424af43d",
   "metadata": {},
   "source": [
    "Accidents (regardless of incident) seem to occur 1.76 times more often during the night than during the day"
   ]
  },
  {
   "cell_type": "code",
   "execution_count": null,
   "id": "59f7698a-b00d-4c74-8a3c-f918cbad4666",
   "metadata": {},
   "outputs": [],
   "source": []
  },
  {
   "cell_type": "code",
   "execution_count": 62,
   "id": "960358b0-1962-469d-894e-5917e3171d04",
   "metadata": {},
   "outputs": [],
   "source": [
    "x = df.to_numpy()\n",
    "y = df['class'].to_numpy()\n",
    "dims = x.shape[1]\n",
    "N = x.shape[0]"
   ]
  },
  {
   "cell_type": "code",
   "execution_count": 63,
   "id": "2a2ea09d-7bc4-48d9-bb33-4f74d65548ca",
   "metadata": {},
   "outputs": [],
   "source": [
    "# do we have to use knn?\n",
    "knn = neighbors.KNeighborsClassifier(n_neighbors = 11)"
   ]
  },
  {
   "cell_type": "code",
   "execution_count": 64,
   "id": "2f244c3d-b9a1-42ca-97bc-0c6a57fc26ed",
   "metadata": {},
   "outputs": [
    {
     "data": {
      "text/plain": [
       "KNeighborsClassifier(n_neighbors=11)"
      ]
     },
     "execution_count": 64,
     "metadata": {},
     "output_type": "execute_result"
    }
   ],
   "source": [
    "knn.fit(x, y)"
   ]
  },
  {
   "cell_type": "code",
   "execution_count": 65,
   "id": "0d946b61-fb81-4db0-9452-84c50d53a261",
   "metadata": {},
   "outputs": [],
   "source": [
    "yhat = knn.predict(x)"
   ]
  },
  {
   "cell_type": "code",
   "execution_count": null,
   "id": "c72650d0-6fd9-4c9d-856c-b9dc628ea7f2",
   "metadata": {},
   "outputs": [],
   "source": []
  },
  {
   "cell_type": "code",
   "execution_count": 66,
   "id": "0c527ce2-e0c5-4dea-86da-35cce8247762",
   "metadata": {},
   "outputs": [
    {
     "name": "stdout",
     "output_type": "stream",
     "text": [
      "Predicted value: 0, real target: 1\n"
     ]
    }
   ],
   "source": [
    "# why do we use -1? Why not 183? or 874?\n",
    "print(\"Predicted value: {}, real target: {}\".format(yhat[-1], y[-1]))"
   ]
  },
  {
   "cell_type": "code",
   "execution_count": 67,
   "id": "e54337ef-1fc8-4b9b-9d95-28e5065fed08",
   "metadata": {},
   "outputs": [
    {
     "data": {
      "text/plain": [
       "0.9375167533372648"
      ]
     },
     "execution_count": 67,
     "metadata": {},
     "output_type": "execute_result"
    }
   ],
   "source": [
    "# This value does not seem to be helpful\n",
    "# This could quite possibly mean that about 94% of the data is predicted as 0, but that is not the case. \n",
    "knn.score(x, y)"
   ]
  },
  {
   "cell_type": "code",
   "execution_count": 68,
   "id": "fb558511-6dd9-490c-9715-dbe260197009",
   "metadata": {},
   "outputs": [
    {
     "name": "stdout",
     "output_type": "stream",
     "text": [
      "TP: 34784, FP: 1590\n",
      "FN:   73, TN:  184\n"
     ]
    }
   ],
   "source": [
    "# confusion matrix for 0 and 1\n",
    "TP = np.sum(np.logical_and(yhat == 0, y == 0))\n",
    "TN = np.sum(np.logical_and(yhat == 1, y == 1))\n",
    "FP = np.sum(np.logical_and(yhat == 0, y == 1))\n",
    "FN = np.sum(np.logical_and(yhat == 1, y == 0))\n",
    "print(f'TP: {TP:4}, FP: {FP:4}')\n",
    "print(f'FN: {FN:4}, TN: {TN:4}')"
   ]
  },
  {
   "cell_type": "code",
   "execution_count": 69,
   "id": "93497023-ab0a-4f59-8d50-f08097bcf5a5",
   "metadata": {},
   "outputs": [
    {
     "name": "stdout",
     "output_type": "stream",
     "text": [
      "TP: 34784, FP:  617\n",
      "FN:    5, TN:    7\n"
     ]
    }
   ],
   "source": [
    "# confusion matrix for 0 and 2\n",
    "TP = np.sum(np.logical_and(yhat == 0, y == 0))\n",
    "TN = np.sum(np.logical_and(yhat == 2, y == 2))\n",
    "FP = np.sum(np.logical_and(yhat == 0, y == 2))\n",
    "FN = np.sum(np.logical_and(yhat == 2, y == 0))\n",
    "print(f'TP: {TP:4}, FP: {FP:4}')\n",
    "print(f'FN: {FN:4}, TN: {TN:4}')"
   ]
  },
  {
   "cell_type": "code",
   "execution_count": 70,
   "id": "409669bc-4807-43cf-a6df-f9c0614fd781",
   "metadata": {},
   "outputs": [
    {
     "name": "stdout",
     "output_type": "stream",
     "text": [
      "TP:  184, FP:   41\n",
      "FN:    5, TN:    7\n"
     ]
    }
   ],
   "source": [
    "# confusion matrix for 1 and 2\n",
    "TP = np.sum(np.logical_and(yhat == 1, y == 1))\n",
    "TN = np.sum(np.logical_and(yhat == 2, y == 2))\n",
    "FP = np.sum(np.logical_and(yhat == 1, y == 2))\n",
    "FN = np.sum(np.logical_and(yhat == 2, y == 1))\n",
    "print(f'TP: {TP:4}, FP: {FP:4}')\n",
    "print(f'FN: {FN:4}, TN: {TN:4}')"
   ]
  },
  {
   "cell_type": "code",
   "execution_count": 71,
   "id": "aa12f9f8-7110-405d-81ac-f462c29ee86f",
   "metadata": {},
   "outputs": [
    {
     "data": {
      "text/plain": [
       "array([[34784,  1590,   617],\n",
       "       [   73,   184,    41],\n",
       "       [    5,     5,     7]])"
      ]
     },
     "execution_count": 71,
     "metadata": {},
     "output_type": "execute_result"
    }
   ],
   "source": [
    "metrics.confusion_matrix(yhat, y)"
   ]
  },
  {
   "cell_type": "code",
   "execution_count": 72,
   "id": "b0c5f809-b8cd-4719-b6f8-d9fe632f53fd",
   "metadata": {},
   "outputs": [],
   "source": [
    "# which columns are significant? which are not? Use linear regression? maybe\n",
    "# sns.scatterplot(x='Length',y='class')"
   ]
  },
  {
   "cell_type": "code",
   "execution_count": 73,
   "id": "ea5f34ab-0122-4c37-8ecf-61c05f5b6c5f",
   "metadata": {},
   "outputs": [
    {
     "data": {
      "text/plain": [
       "Index(['FIRM', 'class', 'Start', 'End', 'Length', 'Night', 'Gap', 'WS', 'idx',\n",
       "       'Base', 'StartAdj', 'LenAdj', 'Comp', 'Trans', 'Press', 'p1s', 'p1l',\n",
       "       'p2s', 'p2l', 'MalAdj', 'NFZ', 'AFZ', 'MFZ'],\n",
       "      dtype='object')"
      ]
     },
     "execution_count": 73,
     "metadata": {},
     "output_type": "execute_result"
    }
   ],
   "source": [
    "df.columns"
   ]
  },
  {
   "cell_type": "code",
   "execution_count": null,
   "id": "85592a53-20bf-416f-938b-83c773a106e2",
   "metadata": {},
   "outputs": [],
   "source": []
  },
  {
   "cell_type": "code",
   "execution_count": 74,
   "id": "d44c7d81-fbbc-405d-9aed-f05601bd7f56",
   "metadata": {},
   "outputs": [
    {
     "data": {
      "text/html": [
       "<div>\n",
       "<style scoped>\n",
       "    .dataframe tbody tr th:only-of-type {\n",
       "        vertical-align: middle;\n",
       "    }\n",
       "\n",
       "    .dataframe tbody tr th {\n",
       "        vertical-align: top;\n",
       "    }\n",
       "\n",
       "    .dataframe thead th {\n",
       "        text-align: right;\n",
       "    }\n",
       "</style>\n",
       "<table border=\"1\" class=\"dataframe\">\n",
       "  <thead>\n",
       "    <tr style=\"text-align: right;\">\n",
       "      <th></th>\n",
       "      <th>Length</th>\n",
       "      <th>class</th>\n",
       "    </tr>\n",
       "  </thead>\n",
       "  <tbody>\n",
       "    <tr>\n",
       "      <th>0</th>\n",
       "      <td>320</td>\n",
       "      <td>0</td>\n",
       "    </tr>\n",
       "    <tr>\n",
       "      <th>1</th>\n",
       "      <td>360</td>\n",
       "      <td>0</td>\n",
       "    </tr>\n",
       "    <tr>\n",
       "      <th>2</th>\n",
       "      <td>465</td>\n",
       "      <td>0</td>\n",
       "    </tr>\n",
       "    <tr>\n",
       "      <th>3</th>\n",
       "      <td>375</td>\n",
       "      <td>0</td>\n",
       "    </tr>\n",
       "    <tr>\n",
       "      <th>4</th>\n",
       "      <td>495</td>\n",
       "      <td>0</td>\n",
       "    </tr>\n",
       "    <tr>\n",
       "      <th>...</th>\n",
       "      <td>...</td>\n",
       "      <td>...</td>\n",
       "    </tr>\n",
       "    <tr>\n",
       "      <th>38754</th>\n",
       "      <td>420</td>\n",
       "      <td>0</td>\n",
       "    </tr>\n",
       "    <tr>\n",
       "      <th>38755</th>\n",
       "      <td>375</td>\n",
       "      <td>0</td>\n",
       "    </tr>\n",
       "    <tr>\n",
       "      <th>38756</th>\n",
       "      <td>520</td>\n",
       "      <td>0</td>\n",
       "    </tr>\n",
       "    <tr>\n",
       "      <th>38757</th>\n",
       "      <td>555</td>\n",
       "      <td>0</td>\n",
       "    </tr>\n",
       "    <tr>\n",
       "      <th>38758</th>\n",
       "      <td>790</td>\n",
       "      <td>1</td>\n",
       "    </tr>\n",
       "  </tbody>\n",
       "</table>\n",
       "<p>37306 rows × 2 columns</p>\n",
       "</div>"
      ],
      "text/plain": [
       "       Length  class\n",
       "0         320      0\n",
       "1         360      0\n",
       "2         465      0\n",
       "3         375      0\n",
       "4         495      0\n",
       "...       ...    ...\n",
       "38754     420      0\n",
       "38755     375      0\n",
       "38756     520      0\n",
       "38757     555      0\n",
       "38758     790      1\n",
       "\n",
       "[37306 rows x 2 columns]"
      ]
     },
     "execution_count": 74,
     "metadata": {},
     "output_type": "execute_result"
    }
   ],
   "source": [
    "df[['Length', 'class']]"
   ]
  },
  {
   "cell_type": "code",
   "execution_count": 75,
   "id": "160fbee2-6d7a-48b8-a607-35e15a58bcc5",
   "metadata": {},
   "outputs": [
    {
     "data": {
      "text/html": [
       "<div>\n",
       "<style scoped>\n",
       "    .dataframe tbody tr th:only-of-type {\n",
       "        vertical-align: middle;\n",
       "    }\n",
       "\n",
       "    .dataframe tbody tr th {\n",
       "        vertical-align: top;\n",
       "    }\n",
       "\n",
       "    .dataframe thead th {\n",
       "        text-align: right;\n",
       "    }\n",
       "</style>\n",
       "<table border=\"1\" class=\"dataframe\">\n",
       "  <thead>\n",
       "    <tr style=\"text-align: right;\">\n",
       "      <th></th>\n",
       "      <th>FIRM</th>\n",
       "      <th>class</th>\n",
       "      <th>Start</th>\n",
       "      <th>End</th>\n",
       "      <th>Length</th>\n",
       "      <th>Night</th>\n",
       "      <th>Gap</th>\n",
       "      <th>WS</th>\n",
       "      <th>idx</th>\n",
       "      <th>Base</th>\n",
       "      <th>...</th>\n",
       "      <th>Trans</th>\n",
       "      <th>Press</th>\n",
       "      <th>p1s</th>\n",
       "      <th>p1l</th>\n",
       "      <th>p2s</th>\n",
       "      <th>p2l</th>\n",
       "      <th>MalAdj</th>\n",
       "      <th>NFZ</th>\n",
       "      <th>AFZ</th>\n",
       "      <th>MFZ</th>\n",
       "    </tr>\n",
       "  </thead>\n",
       "  <tbody>\n",
       "    <tr>\n",
       "      <th>FIRM</th>\n",
       "      <td>1.000000</td>\n",
       "      <td>-0.076097</td>\n",
       "      <td>-0.061856</td>\n",
       "      <td>-0.131299</td>\n",
       "      <td>-0.189567</td>\n",
       "      <td>-0.375051</td>\n",
       "      <td>0.266764</td>\n",
       "      <td>0.431107</td>\n",
       "      <td>-0.747004</td>\n",
       "      <td>0.375051</td>\n",
       "      <td>...</td>\n",
       "      <td>0.747090</td>\n",
       "      <td>0.709456</td>\n",
       "      <td>0.645925</td>\n",
       "      <td>-0.121076</td>\n",
       "      <td>0.510789</td>\n",
       "      <td>-0.141734</td>\n",
       "      <td>NaN</td>\n",
       "      <td>-0.033252</td>\n",
       "      <td>0.014762</td>\n",
       "      <td>-0.034030</td>\n",
       "    </tr>\n",
       "    <tr>\n",
       "      <th>class</th>\n",
       "      <td>-0.076097</td>\n",
       "      <td>1.000000</td>\n",
       "      <td>0.006215</td>\n",
       "      <td>0.101814</td>\n",
       "      <td>0.246862</td>\n",
       "      <td>0.072098</td>\n",
       "      <td>-0.004571</td>\n",
       "      <td>0.015209</td>\n",
       "      <td>-0.003790</td>\n",
       "      <td>-0.072098</td>\n",
       "      <td>...</td>\n",
       "      <td>-0.013197</td>\n",
       "      <td>-0.005773</td>\n",
       "      <td>-0.002329</td>\n",
       "      <td>0.052798</td>\n",
       "      <td>-0.004832</td>\n",
       "      <td>0.090839</td>\n",
       "      <td>NaN</td>\n",
       "      <td>0.147683</td>\n",
       "      <td>0.304255</td>\n",
       "      <td>0.178208</td>\n",
       "    </tr>\n",
       "    <tr>\n",
       "      <th>Start</th>\n",
       "      <td>-0.061856</td>\n",
       "      <td>0.006215</td>\n",
       "      <td>1.000000</td>\n",
       "      <td>0.921279</td>\n",
       "      <td>-0.023652</td>\n",
       "      <td>0.420424</td>\n",
       "      <td>0.016366</td>\n",
       "      <td>0.051610</td>\n",
       "      <td>-0.008744</td>\n",
       "      <td>-0.420424</td>\n",
       "      <td>...</td>\n",
       "      <td>-0.054558</td>\n",
       "      <td>-0.017897</td>\n",
       "      <td>-0.052771</td>\n",
       "      <td>0.013629</td>\n",
       "      <td>-0.036806</td>\n",
       "      <td>0.008870</td>\n",
       "      <td>NaN</td>\n",
       "      <td>-0.068787</td>\n",
       "      <td>-0.038672</td>\n",
       "      <td>-0.078587</td>\n",
       "    </tr>\n",
       "    <tr>\n",
       "      <th>End</th>\n",
       "      <td>-0.131299</td>\n",
       "      <td>0.101814</td>\n",
       "      <td>0.921279</td>\n",
       "      <td>1.000000</td>\n",
       "      <td>0.367002</td>\n",
       "      <td>0.473514</td>\n",
       "      <td>0.014045</td>\n",
       "      <td>0.041333</td>\n",
       "      <td>-0.005475</td>\n",
       "      <td>-0.473514</td>\n",
       "      <td>...</td>\n",
       "      <td>-0.054549</td>\n",
       "      <td>-0.029143</td>\n",
       "      <td>-0.064879</td>\n",
       "      <td>0.086627</td>\n",
       "      <td>-0.048654</td>\n",
       "      <td>0.071956</td>\n",
       "      <td>NaN</td>\n",
       "      <td>-0.045808</td>\n",
       "      <td>-0.001396</td>\n",
       "      <td>-0.055308</td>\n",
       "    </tr>\n",
       "    <tr>\n",
       "      <th>Length</th>\n",
       "      <td>-0.189567</td>\n",
       "      <td>0.246862</td>\n",
       "      <td>-0.023652</td>\n",
       "      <td>0.367002</td>\n",
       "      <td>1.000000</td>\n",
       "      <td>0.211609</td>\n",
       "      <td>-0.003040</td>\n",
       "      <td>-0.017195</td>\n",
       "      <td>0.006840</td>\n",
       "      <td>-0.211609</td>\n",
       "      <td>...</td>\n",
       "      <td>-0.009726</td>\n",
       "      <td>-0.032108</td>\n",
       "      <td>-0.040556</td>\n",
       "      <td>0.190087</td>\n",
       "      <td>-0.037035</td>\n",
       "      <td>0.163756</td>\n",
       "      <td>NaN</td>\n",
       "      <td>0.046778</td>\n",
       "      <td>0.088911</td>\n",
       "      <td>0.045799</td>\n",
       "    </tr>\n",
       "    <tr>\n",
       "      <th>Night</th>\n",
       "      <td>-0.375051</td>\n",
       "      <td>0.072098</td>\n",
       "      <td>0.420424</td>\n",
       "      <td>0.473514</td>\n",
       "      <td>0.211609</td>\n",
       "      <td>1.000000</td>\n",
       "      <td>-0.017297</td>\n",
       "      <td>0.011419</td>\n",
       "      <td>0.021840</td>\n",
       "      <td>-1.000000</td>\n",
       "      <td>...</td>\n",
       "      <td>-0.154110</td>\n",
       "      <td>-0.071130</td>\n",
       "      <td>-0.137806</td>\n",
       "      <td>0.040462</td>\n",
       "      <td>-0.090687</td>\n",
       "      <td>0.040131</td>\n",
       "      <td>NaN</td>\n",
       "      <td>0.045079</td>\n",
       "      <td>-0.060774</td>\n",
       "      <td>0.023880</td>\n",
       "    </tr>\n",
       "    <tr>\n",
       "      <th>Gap</th>\n",
       "      <td>0.266764</td>\n",
       "      <td>-0.004571</td>\n",
       "      <td>0.016366</td>\n",
       "      <td>0.014045</td>\n",
       "      <td>-0.003040</td>\n",
       "      <td>-0.017297</td>\n",
       "      <td>1.000000</td>\n",
       "      <td>0.389992</td>\n",
       "      <td>-0.197550</td>\n",
       "      <td>0.017297</td>\n",
       "      <td>...</td>\n",
       "      <td>0.098740</td>\n",
       "      <td>0.167435</td>\n",
       "      <td>0.051024</td>\n",
       "      <td>-0.189512</td>\n",
       "      <td>0.104421</td>\n",
       "      <td>-0.117842</td>\n",
       "      <td>NaN</td>\n",
       "      <td>-0.003038</td>\n",
       "      <td>-0.007611</td>\n",
       "      <td>-0.006499</td>\n",
       "    </tr>\n",
       "    <tr>\n",
       "      <th>WS</th>\n",
       "      <td>0.431107</td>\n",
       "      <td>0.015209</td>\n",
       "      <td>0.051610</td>\n",
       "      <td>0.041333</td>\n",
       "      <td>-0.017195</td>\n",
       "      <td>0.011419</td>\n",
       "      <td>0.389992</td>\n",
       "      <td>1.000000</td>\n",
       "      <td>-0.429531</td>\n",
       "      <td>-0.011419</td>\n",
       "      <td>...</td>\n",
       "      <td>0.288606</td>\n",
       "      <td>0.334925</td>\n",
       "      <td>0.023888</td>\n",
       "      <td>-0.166958</td>\n",
       "      <td>0.093516</td>\n",
       "      <td>-0.102432</td>\n",
       "      <td>NaN</td>\n",
       "      <td>0.001477</td>\n",
       "      <td>-0.005915</td>\n",
       "      <td>0.001924</td>\n",
       "    </tr>\n",
       "    <tr>\n",
       "      <th>idx</th>\n",
       "      <td>-0.747004</td>\n",
       "      <td>-0.003790</td>\n",
       "      <td>-0.008744</td>\n",
       "      <td>-0.005475</td>\n",
       "      <td>0.006840</td>\n",
       "      <td>0.021840</td>\n",
       "      <td>-0.197550</td>\n",
       "      <td>-0.429531</td>\n",
       "      <td>1.000000</td>\n",
       "      <td>-0.021840</td>\n",
       "      <td>...</td>\n",
       "      <td>-0.713934</td>\n",
       "      <td>-0.976615</td>\n",
       "      <td>-0.621976</td>\n",
       "      <td>0.101184</td>\n",
       "      <td>-0.536530</td>\n",
       "      <td>0.137398</td>\n",
       "      <td>NaN</td>\n",
       "      <td>0.005572</td>\n",
       "      <td>-0.001000</td>\n",
       "      <td>0.004168</td>\n",
       "    </tr>\n",
       "    <tr>\n",
       "      <th>Base</th>\n",
       "      <td>0.375051</td>\n",
       "      <td>-0.072098</td>\n",
       "      <td>-0.420424</td>\n",
       "      <td>-0.473514</td>\n",
       "      <td>-0.211609</td>\n",
       "      <td>-1.000000</td>\n",
       "      <td>0.017297</td>\n",
       "      <td>-0.011419</td>\n",
       "      <td>-0.021840</td>\n",
       "      <td>1.000000</td>\n",
       "      <td>...</td>\n",
       "      <td>0.154110</td>\n",
       "      <td>0.071130</td>\n",
       "      <td>0.137806</td>\n",
       "      <td>-0.040462</td>\n",
       "      <td>0.090687</td>\n",
       "      <td>-0.040131</td>\n",
       "      <td>NaN</td>\n",
       "      <td>-0.045079</td>\n",
       "      <td>0.060774</td>\n",
       "      <td>-0.023880</td>\n",
       "    </tr>\n",
       "    <tr>\n",
       "      <th>StartAdj</th>\n",
       "      <td>0.084055</td>\n",
       "      <td>-0.002487</td>\n",
       "      <td>0.474976</td>\n",
       "      <td>0.433573</td>\n",
       "      <td>-0.021550</td>\n",
       "      <td>0.367329</td>\n",
       "      <td>0.008646</td>\n",
       "      <td>0.009777</td>\n",
       "      <td>-0.005109</td>\n",
       "      <td>-0.367329</td>\n",
       "      <td>...</td>\n",
       "      <td>-0.048694</td>\n",
       "      <td>-0.010908</td>\n",
       "      <td>0.005988</td>\n",
       "      <td>0.002172</td>\n",
       "      <td>0.000150</td>\n",
       "      <td>0.006864</td>\n",
       "      <td>NaN</td>\n",
       "      <td>0.008377</td>\n",
       "      <td>-0.004538</td>\n",
       "      <td>-0.042567</td>\n",
       "    </tr>\n",
       "    <tr>\n",
       "      <th>LenAdj</th>\n",
       "      <td>0.282604</td>\n",
       "      <td>-0.293552</td>\n",
       "      <td>-0.038277</td>\n",
       "      <td>-0.229610</td>\n",
       "      <td>-0.498686</td>\n",
       "      <td>-0.228572</td>\n",
       "      <td>0.059840</td>\n",
       "      <td>0.005364</td>\n",
       "      <td>-0.008276</td>\n",
       "      <td>0.228572</td>\n",
       "      <td>...</td>\n",
       "      <td>0.048205</td>\n",
       "      <td>0.025961</td>\n",
       "      <td>0.068757</td>\n",
       "      <td>-0.068845</td>\n",
       "      <td>0.042235</td>\n",
       "      <td>-0.068143</td>\n",
       "      <td>NaN</td>\n",
       "      <td>-0.078676</td>\n",
       "      <td>-0.055988</td>\n",
       "      <td>-0.063343</td>\n",
       "    </tr>\n",
       "    <tr>\n",
       "      <th>Comp</th>\n",
       "      <td>0.274797</td>\n",
       "      <td>-0.010357</td>\n",
       "      <td>-0.039333</td>\n",
       "      <td>-0.043390</td>\n",
       "      <td>-0.017458</td>\n",
       "      <td>-0.102713</td>\n",
       "      <td>0.658207</td>\n",
       "      <td>0.213071</td>\n",
       "      <td>-0.106090</td>\n",
       "      <td>0.102713</td>\n",
       "      <td>...</td>\n",
       "      <td>0.119752</td>\n",
       "      <td>0.095674</td>\n",
       "      <td>0.046457</td>\n",
       "      <td>-0.030821</td>\n",
       "      <td>0.085859</td>\n",
       "      <td>-0.016293</td>\n",
       "      <td>NaN</td>\n",
       "      <td>-0.009144</td>\n",
       "      <td>0.010067</td>\n",
       "      <td>-0.007568</td>\n",
       "    </tr>\n",
       "    <tr>\n",
       "      <th>Trans</th>\n",
       "      <td>0.747090</td>\n",
       "      <td>-0.013197</td>\n",
       "      <td>-0.054558</td>\n",
       "      <td>-0.054549</td>\n",
       "      <td>-0.009726</td>\n",
       "      <td>-0.154110</td>\n",
       "      <td>0.098740</td>\n",
       "      <td>0.288606</td>\n",
       "      <td>-0.713934</td>\n",
       "      <td>0.154110</td>\n",
       "      <td>...</td>\n",
       "      <td>1.000000</td>\n",
       "      <td>0.711798</td>\n",
       "      <td>0.614159</td>\n",
       "      <td>-0.056825</td>\n",
       "      <td>0.519233</td>\n",
       "      <td>-0.090136</td>\n",
       "      <td>NaN</td>\n",
       "      <td>-0.019859</td>\n",
       "      <td>0.004967</td>\n",
       "      <td>-0.014849</td>\n",
       "    </tr>\n",
       "    <tr>\n",
       "      <th>Press</th>\n",
       "      <td>0.709456</td>\n",
       "      <td>-0.005773</td>\n",
       "      <td>-0.017897</td>\n",
       "      <td>-0.029143</td>\n",
       "      <td>-0.032108</td>\n",
       "      <td>-0.071130</td>\n",
       "      <td>0.167435</td>\n",
       "      <td>0.334925</td>\n",
       "      <td>-0.976615</td>\n",
       "      <td>0.071130</td>\n",
       "      <td>...</td>\n",
       "      <td>0.711798</td>\n",
       "      <td>1.000000</td>\n",
       "      <td>0.630977</td>\n",
       "      <td>-0.106600</td>\n",
       "      <td>0.569434</td>\n",
       "      <td>-0.139864</td>\n",
       "      <td>NaN</td>\n",
       "      <td>-0.009221</td>\n",
       "      <td>0.001684</td>\n",
       "      <td>-0.005729</td>\n",
       "    </tr>\n",
       "    <tr>\n",
       "      <th>p1s</th>\n",
       "      <td>0.645925</td>\n",
       "      <td>-0.002329</td>\n",
       "      <td>-0.052771</td>\n",
       "      <td>-0.064879</td>\n",
       "      <td>-0.040556</td>\n",
       "      <td>-0.137806</td>\n",
       "      <td>0.051024</td>\n",
       "      <td>0.023888</td>\n",
       "      <td>-0.621976</td>\n",
       "      <td>0.137806</td>\n",
       "      <td>...</td>\n",
       "      <td>0.614159</td>\n",
       "      <td>0.630977</td>\n",
       "      <td>1.000000</td>\n",
       "      <td>-0.175074</td>\n",
       "      <td>0.655088</td>\n",
       "      <td>-0.145859</td>\n",
       "      <td>NaN</td>\n",
       "      <td>-0.005905</td>\n",
       "      <td>0.008722</td>\n",
       "      <td>-0.005893</td>\n",
       "    </tr>\n",
       "    <tr>\n",
       "      <th>p1l</th>\n",
       "      <td>-0.121076</td>\n",
       "      <td>0.052798</td>\n",
       "      <td>0.013629</td>\n",
       "      <td>0.086627</td>\n",
       "      <td>0.190087</td>\n",
       "      <td>0.040462</td>\n",
       "      <td>-0.189512</td>\n",
       "      <td>-0.166958</td>\n",
       "      <td>0.101184</td>\n",
       "      <td>-0.040462</td>\n",
       "      <td>...</td>\n",
       "      <td>-0.056825</td>\n",
       "      <td>-0.106600</td>\n",
       "      <td>-0.175074</td>\n",
       "      <td>1.000000</td>\n",
       "      <td>-0.085391</td>\n",
       "      <td>0.492174</td>\n",
       "      <td>NaN</td>\n",
       "      <td>-0.000674</td>\n",
       "      <td>0.022281</td>\n",
       "      <td>0.002346</td>\n",
       "    </tr>\n",
       "    <tr>\n",
       "      <th>p2s</th>\n",
       "      <td>0.510789</td>\n",
       "      <td>-0.004832</td>\n",
       "      <td>-0.036806</td>\n",
       "      <td>-0.048654</td>\n",
       "      <td>-0.037035</td>\n",
       "      <td>-0.090687</td>\n",
       "      <td>0.104421</td>\n",
       "      <td>0.093516</td>\n",
       "      <td>-0.536530</td>\n",
       "      <td>0.090687</td>\n",
       "      <td>...</td>\n",
       "      <td>0.519233</td>\n",
       "      <td>0.569434</td>\n",
       "      <td>0.655088</td>\n",
       "      <td>-0.085391</td>\n",
       "      <td>1.000000</td>\n",
       "      <td>-0.183913</td>\n",
       "      <td>NaN</td>\n",
       "      <td>-0.008307</td>\n",
       "      <td>-0.000514</td>\n",
       "      <td>-0.001985</td>\n",
       "    </tr>\n",
       "    <tr>\n",
       "      <th>p2l</th>\n",
       "      <td>-0.141734</td>\n",
       "      <td>0.090839</td>\n",
       "      <td>0.008870</td>\n",
       "      <td>0.071956</td>\n",
       "      <td>0.163756</td>\n",
       "      <td>0.040131</td>\n",
       "      <td>-0.117842</td>\n",
       "      <td>-0.102432</td>\n",
       "      <td>0.137398</td>\n",
       "      <td>-0.040131</td>\n",
       "      <td>...</td>\n",
       "      <td>-0.090136</td>\n",
       "      <td>-0.139864</td>\n",
       "      <td>-0.145859</td>\n",
       "      <td>0.492174</td>\n",
       "      <td>-0.183913</td>\n",
       "      <td>1.000000</td>\n",
       "      <td>NaN</td>\n",
       "      <td>0.015301</td>\n",
       "      <td>0.041701</td>\n",
       "      <td>0.013482</td>\n",
       "    </tr>\n",
       "    <tr>\n",
       "      <th>MalAdj</th>\n",
       "      <td>NaN</td>\n",
       "      <td>NaN</td>\n",
       "      <td>NaN</td>\n",
       "      <td>NaN</td>\n",
       "      <td>NaN</td>\n",
       "      <td>NaN</td>\n",
       "      <td>NaN</td>\n",
       "      <td>NaN</td>\n",
       "      <td>NaN</td>\n",
       "      <td>NaN</td>\n",
       "      <td>...</td>\n",
       "      <td>NaN</td>\n",
       "      <td>NaN</td>\n",
       "      <td>NaN</td>\n",
       "      <td>NaN</td>\n",
       "      <td>NaN</td>\n",
       "      <td>NaN</td>\n",
       "      <td>NaN</td>\n",
       "      <td>NaN</td>\n",
       "      <td>NaN</td>\n",
       "      <td>NaN</td>\n",
       "    </tr>\n",
       "    <tr>\n",
       "      <th>NFZ</th>\n",
       "      <td>-0.033252</td>\n",
       "      <td>0.147683</td>\n",
       "      <td>-0.068787</td>\n",
       "      <td>-0.045808</td>\n",
       "      <td>0.046778</td>\n",
       "      <td>0.045079</td>\n",
       "      <td>-0.003038</td>\n",
       "      <td>0.001477</td>\n",
       "      <td>0.005572</td>\n",
       "      <td>-0.045079</td>\n",
       "      <td>...</td>\n",
       "      <td>-0.019859</td>\n",
       "      <td>-0.009221</td>\n",
       "      <td>-0.005905</td>\n",
       "      <td>-0.000674</td>\n",
       "      <td>-0.008307</td>\n",
       "      <td>0.015301</td>\n",
       "      <td>NaN</td>\n",
       "      <td>1.000000</td>\n",
       "      <td>-0.003866</td>\n",
       "      <td>-0.002226</td>\n",
       "    </tr>\n",
       "    <tr>\n",
       "      <th>AFZ</th>\n",
       "      <td>0.014762</td>\n",
       "      <td>0.304255</td>\n",
       "      <td>-0.038672</td>\n",
       "      <td>-0.001396</td>\n",
       "      <td>0.088911</td>\n",
       "      <td>-0.060774</td>\n",
       "      <td>-0.007611</td>\n",
       "      <td>-0.005915</td>\n",
       "      <td>-0.001000</td>\n",
       "      <td>0.060774</td>\n",
       "      <td>...</td>\n",
       "      <td>0.004967</td>\n",
       "      <td>0.001684</td>\n",
       "      <td>0.008722</td>\n",
       "      <td>0.022281</td>\n",
       "      <td>-0.000514</td>\n",
       "      <td>0.041701</td>\n",
       "      <td>NaN</td>\n",
       "      <td>-0.003866</td>\n",
       "      <td>1.000000</td>\n",
       "      <td>-0.004856</td>\n",
       "    </tr>\n",
       "    <tr>\n",
       "      <th>MFZ</th>\n",
       "      <td>-0.034030</td>\n",
       "      <td>0.178208</td>\n",
       "      <td>-0.078587</td>\n",
       "      <td>-0.055308</td>\n",
       "      <td>0.045799</td>\n",
       "      <td>0.023880</td>\n",
       "      <td>-0.006499</td>\n",
       "      <td>0.001924</td>\n",
       "      <td>0.004168</td>\n",
       "      <td>-0.023880</td>\n",
       "      <td>...</td>\n",
       "      <td>-0.014849</td>\n",
       "      <td>-0.005729</td>\n",
       "      <td>-0.005893</td>\n",
       "      <td>0.002346</td>\n",
       "      <td>-0.001985</td>\n",
       "      <td>0.013482</td>\n",
       "      <td>NaN</td>\n",
       "      <td>-0.002226</td>\n",
       "      <td>-0.004856</td>\n",
       "      <td>1.000000</td>\n",
       "    </tr>\n",
       "  </tbody>\n",
       "</table>\n",
       "<p>23 rows × 23 columns</p>\n",
       "</div>"
      ],
      "text/plain": [
       "              FIRM     class     Start       End    Length     Night  \\\n",
       "FIRM      1.000000 -0.076097 -0.061856 -0.131299 -0.189567 -0.375051   \n",
       "class    -0.076097  1.000000  0.006215  0.101814  0.246862  0.072098   \n",
       "Start    -0.061856  0.006215  1.000000  0.921279 -0.023652  0.420424   \n",
       "End      -0.131299  0.101814  0.921279  1.000000  0.367002  0.473514   \n",
       "Length   -0.189567  0.246862 -0.023652  0.367002  1.000000  0.211609   \n",
       "Night    -0.375051  0.072098  0.420424  0.473514  0.211609  1.000000   \n",
       "Gap       0.266764 -0.004571  0.016366  0.014045 -0.003040 -0.017297   \n",
       "WS        0.431107  0.015209  0.051610  0.041333 -0.017195  0.011419   \n",
       "idx      -0.747004 -0.003790 -0.008744 -0.005475  0.006840  0.021840   \n",
       "Base      0.375051 -0.072098 -0.420424 -0.473514 -0.211609 -1.000000   \n",
       "StartAdj  0.084055 -0.002487  0.474976  0.433573 -0.021550  0.367329   \n",
       "LenAdj    0.282604 -0.293552 -0.038277 -0.229610 -0.498686 -0.228572   \n",
       "Comp      0.274797 -0.010357 -0.039333 -0.043390 -0.017458 -0.102713   \n",
       "Trans     0.747090 -0.013197 -0.054558 -0.054549 -0.009726 -0.154110   \n",
       "Press     0.709456 -0.005773 -0.017897 -0.029143 -0.032108 -0.071130   \n",
       "p1s       0.645925 -0.002329 -0.052771 -0.064879 -0.040556 -0.137806   \n",
       "p1l      -0.121076  0.052798  0.013629  0.086627  0.190087  0.040462   \n",
       "p2s       0.510789 -0.004832 -0.036806 -0.048654 -0.037035 -0.090687   \n",
       "p2l      -0.141734  0.090839  0.008870  0.071956  0.163756  0.040131   \n",
       "MalAdj         NaN       NaN       NaN       NaN       NaN       NaN   \n",
       "NFZ      -0.033252  0.147683 -0.068787 -0.045808  0.046778  0.045079   \n",
       "AFZ       0.014762  0.304255 -0.038672 -0.001396  0.088911 -0.060774   \n",
       "MFZ      -0.034030  0.178208 -0.078587 -0.055308  0.045799  0.023880   \n",
       "\n",
       "               Gap        WS       idx      Base  ...     Trans     Press  \\\n",
       "FIRM      0.266764  0.431107 -0.747004  0.375051  ...  0.747090  0.709456   \n",
       "class    -0.004571  0.015209 -0.003790 -0.072098  ... -0.013197 -0.005773   \n",
       "Start     0.016366  0.051610 -0.008744 -0.420424  ... -0.054558 -0.017897   \n",
       "End       0.014045  0.041333 -0.005475 -0.473514  ... -0.054549 -0.029143   \n",
       "Length   -0.003040 -0.017195  0.006840 -0.211609  ... -0.009726 -0.032108   \n",
       "Night    -0.017297  0.011419  0.021840 -1.000000  ... -0.154110 -0.071130   \n",
       "Gap       1.000000  0.389992 -0.197550  0.017297  ...  0.098740  0.167435   \n",
       "WS        0.389992  1.000000 -0.429531 -0.011419  ...  0.288606  0.334925   \n",
       "idx      -0.197550 -0.429531  1.000000 -0.021840  ... -0.713934 -0.976615   \n",
       "Base      0.017297 -0.011419 -0.021840  1.000000  ...  0.154110  0.071130   \n",
       "StartAdj  0.008646  0.009777 -0.005109 -0.367329  ... -0.048694 -0.010908   \n",
       "LenAdj    0.059840  0.005364 -0.008276  0.228572  ...  0.048205  0.025961   \n",
       "Comp      0.658207  0.213071 -0.106090  0.102713  ...  0.119752  0.095674   \n",
       "Trans     0.098740  0.288606 -0.713934  0.154110  ...  1.000000  0.711798   \n",
       "Press     0.167435  0.334925 -0.976615  0.071130  ...  0.711798  1.000000   \n",
       "p1s       0.051024  0.023888 -0.621976  0.137806  ...  0.614159  0.630977   \n",
       "p1l      -0.189512 -0.166958  0.101184 -0.040462  ... -0.056825 -0.106600   \n",
       "p2s       0.104421  0.093516 -0.536530  0.090687  ...  0.519233  0.569434   \n",
       "p2l      -0.117842 -0.102432  0.137398 -0.040131  ... -0.090136 -0.139864   \n",
       "MalAdj         NaN       NaN       NaN       NaN  ...       NaN       NaN   \n",
       "NFZ      -0.003038  0.001477  0.005572 -0.045079  ... -0.019859 -0.009221   \n",
       "AFZ      -0.007611 -0.005915 -0.001000  0.060774  ...  0.004967  0.001684   \n",
       "MFZ      -0.006499  0.001924  0.004168 -0.023880  ... -0.014849 -0.005729   \n",
       "\n",
       "               p1s       p1l       p2s       p2l  MalAdj       NFZ       AFZ  \\\n",
       "FIRM      0.645925 -0.121076  0.510789 -0.141734     NaN -0.033252  0.014762   \n",
       "class    -0.002329  0.052798 -0.004832  0.090839     NaN  0.147683  0.304255   \n",
       "Start    -0.052771  0.013629 -0.036806  0.008870     NaN -0.068787 -0.038672   \n",
       "End      -0.064879  0.086627 -0.048654  0.071956     NaN -0.045808 -0.001396   \n",
       "Length   -0.040556  0.190087 -0.037035  0.163756     NaN  0.046778  0.088911   \n",
       "Night    -0.137806  0.040462 -0.090687  0.040131     NaN  0.045079 -0.060774   \n",
       "Gap       0.051024 -0.189512  0.104421 -0.117842     NaN -0.003038 -0.007611   \n",
       "WS        0.023888 -0.166958  0.093516 -0.102432     NaN  0.001477 -0.005915   \n",
       "idx      -0.621976  0.101184 -0.536530  0.137398     NaN  0.005572 -0.001000   \n",
       "Base      0.137806 -0.040462  0.090687 -0.040131     NaN -0.045079  0.060774   \n",
       "StartAdj  0.005988  0.002172  0.000150  0.006864     NaN  0.008377 -0.004538   \n",
       "LenAdj    0.068757 -0.068845  0.042235 -0.068143     NaN -0.078676 -0.055988   \n",
       "Comp      0.046457 -0.030821  0.085859 -0.016293     NaN -0.009144  0.010067   \n",
       "Trans     0.614159 -0.056825  0.519233 -0.090136     NaN -0.019859  0.004967   \n",
       "Press     0.630977 -0.106600  0.569434 -0.139864     NaN -0.009221  0.001684   \n",
       "p1s       1.000000 -0.175074  0.655088 -0.145859     NaN -0.005905  0.008722   \n",
       "p1l      -0.175074  1.000000 -0.085391  0.492174     NaN -0.000674  0.022281   \n",
       "p2s       0.655088 -0.085391  1.000000 -0.183913     NaN -0.008307 -0.000514   \n",
       "p2l      -0.145859  0.492174 -0.183913  1.000000     NaN  0.015301  0.041701   \n",
       "MalAdj         NaN       NaN       NaN       NaN     NaN       NaN       NaN   \n",
       "NFZ      -0.005905 -0.000674 -0.008307  0.015301     NaN  1.000000 -0.003866   \n",
       "AFZ       0.008722  0.022281 -0.000514  0.041701     NaN -0.003866  1.000000   \n",
       "MFZ      -0.005893  0.002346 -0.001985  0.013482     NaN -0.002226 -0.004856   \n",
       "\n",
       "               MFZ  \n",
       "FIRM     -0.034030  \n",
       "class     0.178208  \n",
       "Start    -0.078587  \n",
       "End      -0.055308  \n",
       "Length    0.045799  \n",
       "Night     0.023880  \n",
       "Gap      -0.006499  \n",
       "WS        0.001924  \n",
       "idx       0.004168  \n",
       "Base     -0.023880  \n",
       "StartAdj -0.042567  \n",
       "LenAdj   -0.063343  \n",
       "Comp     -0.007568  \n",
       "Trans    -0.014849  \n",
       "Press    -0.005729  \n",
       "p1s      -0.005893  \n",
       "p1l       0.002346  \n",
       "p2s      -0.001985  \n",
       "p2l       0.013482  \n",
       "MalAdj         NaN  \n",
       "NFZ      -0.002226  \n",
       "AFZ      -0.004856  \n",
       "MFZ       1.000000  \n",
       "\n",
       "[23 rows x 23 columns]"
      ]
     },
     "execution_count": 75,
     "metadata": {},
     "output_type": "execute_result"
    }
   ],
   "source": [
    "df.corr()"
   ]
  },
  {
   "cell_type": "code",
   "execution_count": 76,
   "id": "74e731ed-16e0-4796-9b86-8eec5bf56a4a",
   "metadata": {},
   "outputs": [],
   "source": [
    "df = df.drop('MalAdj', axis=1)"
   ]
  },
  {
   "cell_type": "code",
   "execution_count": 77,
   "id": "b500043d-0e06-4492-94ba-bb0a9cb612e7",
   "metadata": {},
   "outputs": [
    {
     "data": {
      "text/plain": [
       "Index(['FIRM', 'class', 'Start', 'End', 'Length', 'Night', 'Gap', 'WS', 'idx',\n",
       "       'Base', 'StartAdj', 'LenAdj', 'Comp', 'Trans', 'Press', 'p1s', 'p1l',\n",
       "       'p2s', 'p2l', 'NFZ', 'AFZ', 'MFZ'],\n",
       "      dtype='object')"
      ]
     },
     "execution_count": 77,
     "metadata": {},
     "output_type": "execute_result"
    }
   ],
   "source": [
    "df.columns"
   ]
  },
  {
   "cell_type": "code",
   "execution_count": 78,
   "id": "4c2c7854-e287-416e-9197-f4b91e1decc8",
   "metadata": {},
   "outputs": [
    {
     "data": {
      "image/png": "[encoded data removed]",
      "text/plain": [
       "<Figure size 3800x1600 with 2 Axes>"
      ]
     },
     "metadata": {},
     "output_type": "display_data"
    }
   ],
   "source": [
    "plt.figure(figsize = (38, 16))\n",
    "sns.heatmap(df.corr(), annot = True)\n",
    "plt.show()"
   ]
  },
  {
   "cell_type": "markdown",
   "id": "dc7e61bc-2a1a-4cbb-bce4-e95617c436bc",
   "metadata": {},
   "source": [
    "Between "
   ]
  },
  {
   "cell_type": "code",
   "execution_count": 79,
   "id": "d04b9896-2abc-4d4d-bba2-e2eb19590629",
   "metadata": {},
   "outputs": [
    {
     "data": {
      "text/plain": [
       "34862"
      ]
     },
     "execution_count": 79,
     "metadata": {},
     "output_type": "execute_result"
    }
   ],
   "source": [
    "len(df[df['class']==0])"
   ]
  },
  {
   "cell_type": "code",
   "execution_count": 80,
   "id": "f08cfc9d-b086-4454-afa0-d1827b80fe11",
   "metadata": {},
   "outputs": [
    {
     "data": {
      "text/html": [
       "<div>\n",
       "<style scoped>\n",
       "    .dataframe tbody tr th:only-of-type {\n",
       "        vertical-align: middle;\n",
       "    }\n",
       "\n",
       "    .dataframe tbody tr th {\n",
       "        vertical-align: top;\n",
       "    }\n",
       "\n",
       "    .dataframe thead th {\n",
       "        text-align: right;\n",
       "    }\n",
       "</style>\n",
       "<table border=\"1\" class=\"dataframe\">\n",
       "  <thead>\n",
       "    <tr style=\"text-align: right;\">\n",
       "      <th></th>\n",
       "      <th>FIRM</th>\n",
       "      <th>class</th>\n",
       "      <th>Start</th>\n",
       "      <th>End</th>\n",
       "      <th>Length</th>\n",
       "      <th>Night</th>\n",
       "      <th>Gap</th>\n",
       "      <th>WS</th>\n",
       "      <th>idx</th>\n",
       "      <th>Base</th>\n",
       "      <th>...</th>\n",
       "      <th>Comp</th>\n",
       "      <th>Trans</th>\n",
       "      <th>Press</th>\n",
       "      <th>p1s</th>\n",
       "      <th>p1l</th>\n",
       "      <th>p2s</th>\n",
       "      <th>p2l</th>\n",
       "      <th>NFZ</th>\n",
       "      <th>AFZ</th>\n",
       "      <th>MFZ</th>\n",
       "    </tr>\n",
       "  </thead>\n",
       "  <tbody>\n",
       "    <tr>\n",
       "      <th>0</th>\n",
       "      <td>-10</td>\n",
       "      <td>0</td>\n",
       "      <td>290</td>\n",
       "      <td>610</td>\n",
       "      <td>320</td>\n",
       "      <td>0</td>\n",
       "      <td>999</td>\n",
       "      <td>0</td>\n",
       "      <td>6</td>\n",
       "      <td>5.0</td>\n",
       "      <td>...</td>\n",
       "      <td>0.0</td>\n",
       "      <td>-4.0</td>\n",
       "      <td>-4.67</td>\n",
       "      <td>0</td>\n",
       "      <td>0</td>\n",
       "      <td>0</td>\n",
       "      <td>0</td>\n",
       "      <td>0</td>\n",
       "      <td>0</td>\n",
       "      <td>0</td>\n",
       "    </tr>\n",
       "    <tr>\n",
       "      <th>1</th>\n",
       "      <td>-10</td>\n",
       "      <td>0</td>\n",
       "      <td>905</td>\n",
       "      <td>1265</td>\n",
       "      <td>360</td>\n",
       "      <td>0</td>\n",
       "      <td>295</td>\n",
       "      <td>0</td>\n",
       "      <td>6</td>\n",
       "      <td>5.0</td>\n",
       "      <td>...</td>\n",
       "      <td>0.0</td>\n",
       "      <td>-4.0</td>\n",
       "      <td>-4.67</td>\n",
       "      <td>-10</td>\n",
       "      <td>320</td>\n",
       "      <td>0</td>\n",
       "      <td>0</td>\n",
       "      <td>0</td>\n",
       "      <td>0</td>\n",
       "      <td>0</td>\n",
       "    </tr>\n",
       "    <tr>\n",
       "      <th>2</th>\n",
       "      <td>5</td>\n",
       "      <td>0</td>\n",
       "      <td>1040</td>\n",
       "      <td>1505</td>\n",
       "      <td>465</td>\n",
       "      <td>0</td>\n",
       "      <td>999</td>\n",
       "      <td>1</td>\n",
       "      <td>1</td>\n",
       "      <td>5.0</td>\n",
       "      <td>...</td>\n",
       "      <td>0.0</td>\n",
       "      <td>0.0</td>\n",
       "      <td>0.00</td>\n",
       "      <td>-10</td>\n",
       "      <td>360</td>\n",
       "      <td>-10</td>\n",
       "      <td>320</td>\n",
       "      <td>0</td>\n",
       "      <td>0</td>\n",
       "      <td>0</td>\n",
       "    </tr>\n",
       "    <tr>\n",
       "      <th>3</th>\n",
       "      <td>4</td>\n",
       "      <td>0</td>\n",
       "      <td>920</td>\n",
       "      <td>1295</td>\n",
       "      <td>375</td>\n",
       "      <td>0</td>\n",
       "      <td>855</td>\n",
       "      <td>0</td>\n",
       "      <td>2</td>\n",
       "      <td>5.0</td>\n",
       "      <td>...</td>\n",
       "      <td>0.0</td>\n",
       "      <td>0.0</td>\n",
       "      <td>-0.67</td>\n",
       "      <td>5</td>\n",
       "      <td>465</td>\n",
       "      <td>-10</td>\n",
       "      <td>360</td>\n",
       "      <td>0</td>\n",
       "      <td>0</td>\n",
       "      <td>0</td>\n",
       "    </tr>\n",
       "    <tr>\n",
       "      <th>4</th>\n",
       "      <td>1</td>\n",
       "      <td>0</td>\n",
       "      <td>1280</td>\n",
       "      <td>1775</td>\n",
       "      <td>495</td>\n",
       "      <td>1</td>\n",
       "      <td>999</td>\n",
       "      <td>1</td>\n",
       "      <td>1</td>\n",
       "      <td>2.0</td>\n",
       "      <td>...</td>\n",
       "      <td>0.0</td>\n",
       "      <td>-1.0</td>\n",
       "      <td>0.00</td>\n",
       "      <td>4</td>\n",
       "      <td>375</td>\n",
       "      <td>5</td>\n",
       "      <td>465</td>\n",
       "      <td>0</td>\n",
       "      <td>0</td>\n",
       "      <td>0</td>\n",
       "    </tr>\n",
       "    <tr>\n",
       "      <th>...</th>\n",
       "      <td>...</td>\n",
       "      <td>...</td>\n",
       "      <td>...</td>\n",
       "      <td>...</td>\n",
       "      <td>...</td>\n",
       "      <td>...</td>\n",
       "      <td>...</td>\n",
       "      <td>...</td>\n",
       "      <td>...</td>\n",
       "      <td>...</td>\n",
       "      <td>...</td>\n",
       "      <td>...</td>\n",
       "      <td>...</td>\n",
       "      <td>...</td>\n",
       "      <td>...</td>\n",
       "      <td>...</td>\n",
       "      <td>...</td>\n",
       "      <td>...</td>\n",
       "      <td>...</td>\n",
       "      <td>...</td>\n",
       "      <td>...</td>\n",
       "    </tr>\n",
       "    <tr>\n",
       "      <th>38753</th>\n",
       "      <td>-3</td>\n",
       "      <td>0</td>\n",
       "      <td>110</td>\n",
       "      <td>600</td>\n",
       "      <td>490</td>\n",
       "      <td>1</td>\n",
       "      <td>999</td>\n",
       "      <td>0</td>\n",
       "      <td>5</td>\n",
       "      <td>2.0</td>\n",
       "      <td>...</td>\n",
       "      <td>0.0</td>\n",
       "      <td>-2.0</td>\n",
       "      <td>-3.33</td>\n",
       "      <td>-2</td>\n",
       "      <td>660</td>\n",
       "      <td>4</td>\n",
       "      <td>580</td>\n",
       "      <td>0</td>\n",
       "      <td>0</td>\n",
       "      <td>0</td>\n",
       "    </tr>\n",
       "    <tr>\n",
       "      <th>38754</th>\n",
       "      <td>-2</td>\n",
       "      <td>0</td>\n",
       "      <td>855</td>\n",
       "      <td>1275</td>\n",
       "      <td>420</td>\n",
       "      <td>0</td>\n",
       "      <td>999</td>\n",
       "      <td>0</td>\n",
       "      <td>6</td>\n",
       "      <td>5.0</td>\n",
       "      <td>...</td>\n",
       "      <td>0.0</td>\n",
       "      <td>-3.0</td>\n",
       "      <td>-4.00</td>\n",
       "      <td>-3</td>\n",
       "      <td>490</td>\n",
       "      <td>-2</td>\n",
       "      <td>660</td>\n",
       "      <td>0</td>\n",
       "      <td>0</td>\n",
       "      <td>0</td>\n",
       "    </tr>\n",
       "    <tr>\n",
       "      <th>38755</th>\n",
       "      <td>-9</td>\n",
       "      <td>0</td>\n",
       "      <td>105</td>\n",
       "      <td>480</td>\n",
       "      <td>375</td>\n",
       "      <td>1</td>\n",
       "      <td>999</td>\n",
       "      <td>0</td>\n",
       "      <td>7</td>\n",
       "      <td>2.0</td>\n",
       "      <td>...</td>\n",
       "      <td>0.0</td>\n",
       "      <td>-5.0</td>\n",
       "      <td>-5.50</td>\n",
       "      <td>-2</td>\n",
       "      <td>420</td>\n",
       "      <td>-3</td>\n",
       "      <td>490</td>\n",
       "      <td>0</td>\n",
       "      <td>0</td>\n",
       "      <td>0</td>\n",
       "    </tr>\n",
       "    <tr>\n",
       "      <th>38756</th>\n",
       "      <td>-10</td>\n",
       "      <td>0</td>\n",
       "      <td>360</td>\n",
       "      <td>880</td>\n",
       "      <td>520</td>\n",
       "      <td>0</td>\n",
       "      <td>999</td>\n",
       "      <td>0</td>\n",
       "      <td>8</td>\n",
       "      <td>5.0</td>\n",
       "      <td>...</td>\n",
       "      <td>0.0</td>\n",
       "      <td>-6.0</td>\n",
       "      <td>-6.50</td>\n",
       "      <td>-9</td>\n",
       "      <td>375</td>\n",
       "      <td>-2</td>\n",
       "      <td>420</td>\n",
       "      <td>0</td>\n",
       "      <td>0</td>\n",
       "      <td>0</td>\n",
       "    </tr>\n",
       "    <tr>\n",
       "      <th>38757</th>\n",
       "      <td>-9</td>\n",
       "      <td>0</td>\n",
       "      <td>720</td>\n",
       "      <td>1275</td>\n",
       "      <td>555</td>\n",
       "      <td>0</td>\n",
       "      <td>999</td>\n",
       "      <td>0</td>\n",
       "      <td>9</td>\n",
       "      <td>5.0</td>\n",
       "      <td>...</td>\n",
       "      <td>0.0</td>\n",
       "      <td>-6.0</td>\n",
       "      <td>-7.83</td>\n",
       "      <td>-10</td>\n",
       "      <td>520</td>\n",
       "      <td>-9</td>\n",
       "      <td>375</td>\n",
       "      <td>0</td>\n",
       "      <td>0</td>\n",
       "      <td>0</td>\n",
       "    </tr>\n",
       "  </tbody>\n",
       "</table>\n",
       "<p>34862 rows × 22 columns</p>\n",
       "</div>"
      ],
      "text/plain": [
       "       FIRM  class  Start   End  Length  Night  Gap  WS  idx  Base  ...  Comp  \\\n",
       "0       -10      0    290   610     320      0  999   0    6   5.0  ...   0.0   \n",
       "1       -10      0    905  1265     360      0  295   0    6   5.0  ...   0.0   \n",
       "2         5      0   1040  1505     465      0  999   1    1   5.0  ...   0.0   \n",
       "3         4      0    920  1295     375      0  855   0    2   5.0  ...   0.0   \n",
       "4         1      0   1280  1775     495      1  999   1    1   2.0  ...   0.0   \n",
       "...     ...    ...    ...   ...     ...    ...  ...  ..  ...   ...  ...   ...   \n",
       "38753    -3      0    110   600     490      1  999   0    5   2.0  ...   0.0   \n",
       "38754    -2      0    855  1275     420      0  999   0    6   5.0  ...   0.0   \n",
       "38755    -9      0    105   480     375      1  999   0    7   2.0  ...   0.0   \n",
       "38756   -10      0    360   880     520      0  999   0    8   5.0  ...   0.0   \n",
       "38757    -9      0    720  1275     555      0  999   0    9   5.0  ...   0.0   \n",
       "\n",
       "       Trans  Press  p1s  p1l  p2s  p2l  NFZ  AFZ  MFZ  \n",
       "0       -4.0  -4.67    0    0    0    0    0    0    0  \n",
       "1       -4.0  -4.67  -10  320    0    0    0    0    0  \n",
       "2        0.0   0.00  -10  360  -10  320    0    0    0  \n",
       "3        0.0  -0.67    5  465  -10  360    0    0    0  \n",
       "4       -1.0   0.00    4  375    5  465    0    0    0  \n",
       "...      ...    ...  ...  ...  ...  ...  ...  ...  ...  \n",
       "38753   -2.0  -3.33   -2  660    4  580    0    0    0  \n",
       "38754   -3.0  -4.00   -3  490   -2  660    0    0    0  \n",
       "38755   -5.0  -5.50   -2  420   -3  490    0    0    0  \n",
       "38756   -6.0  -6.50   -9  375   -2  420    0    0    0  \n",
       "38757   -6.0  -7.83  -10  520   -9  375    0    0    0  \n",
       "\n",
       "[34862 rows x 22 columns]"
      ]
     },
     "execution_count": 80,
     "metadata": {},
     "output_type": "execute_result"
    }
   ],
   "source": [
    "df[df['class']==0]"
   ]
  },
  {
   "cell_type": "code",
   "execution_count": 81,
   "id": "de03c877-801d-4681-a9df-f48bb3a18886",
   "metadata": {},
   "outputs": [
    {
     "name": "stdout",
     "output_type": "stream",
     "text": [
      "<class 'pandas.core.frame.DataFrame'>\n",
      "Int64Index: 37306 entries, 0 to 38758\n",
      "Data columns (total 22 columns):\n",
      " #   Column    Non-Null Count  Dtype  \n",
      "---  ------    --------------  -----  \n",
      " 0   FIRM      37306 non-null  int64  \n",
      " 1   class     37306 non-null  int64  \n",
      " 2   Start     37306 non-null  int64  \n",
      " 3   End       37306 non-null  int64  \n",
      " 4   Length    37306 non-null  int64  \n",
      " 5   Night     37306 non-null  int64  \n",
      " 6   Gap       37306 non-null  int64  \n",
      " 7   WS        37306 non-null  int64  \n",
      " 8   idx       37306 non-null  int64  \n",
      " 9   Base      37306 non-null  float64\n",
      " 10  StartAdj  37306 non-null  float64\n",
      " 11  LenAdj    37306 non-null  float64\n",
      " 12  Comp      37306 non-null  float64\n",
      " 13  Trans     37306 non-null  float64\n",
      " 14  Press     37306 non-null  float64\n",
      " 15  p1s       37306 non-null  int64  \n",
      " 16  p1l       37306 non-null  int64  \n",
      " 17  p2s       37306 non-null  int64  \n",
      " 18  p2l       37306 non-null  int64  \n",
      " 19  NFZ       37306 non-null  int64  \n",
      " 20  AFZ       37306 non-null  int64  \n",
      " 21  MFZ       37306 non-null  int64  \n",
      "dtypes: float64(6), int64(16)\n",
      "memory usage: 7.6 MB\n"
     ]
    }
   ],
   "source": [
    "df.info()"
   ]
  },
  {
   "cell_type": "markdown",
   "id": "9ae649b9-99d5-4852-b133-8d5e530ac432",
   "metadata": {},
   "source": [
    "Which columns are useless and is not helpful during ML?"
   ]
  },
  {
   "cell_type": "code",
   "execution_count": 82,
   "id": "8109e8f2-8c24-4fa8-bdfd-406268301ffe",
   "metadata": {},
   "outputs": [
    {
     "name": "stdout",
     "output_type": "stream",
     "text": [
      "[0 1]\n",
      "[0 1]\n",
      "[0 1]\n"
     ]
    }
   ],
   "source": [
    "print(df['AFZ'].unique())\n",
    "print(df['NFZ'].unique())\n",
    "print(df['MFZ'].unique())"
   ]
  },
  {
   "cell_type": "code",
   "execution_count": 83,
   "id": "1086d6ba-e6f2-4343-8f84-cbdbc9282cea",
   "metadata": {},
   "outputs": [
    {
     "name": "stdout",
     "output_type": "stream",
     "text": [
      "36994\n",
      "312\n",
      "\n",
      "37240\n",
      "66\n",
      "\n",
      "37202\n",
      "104\n"
     ]
    }
   ],
   "source": [
    "print(len(df[df['AFZ']==0]))\n",
    "print(len(df[df['AFZ']==1]))\n",
    "\n",
    "print()\n",
    "\n",
    "print(len(df[df['NFZ']==0]))\n",
    "print(len(df[df['NFZ']==1]))\n",
    "\n",
    "print()\n",
    "\n",
    "print(len(df[df['MFZ']==0]))\n",
    "print(len(df[df['MFZ']==1]))"
   ]
  },
  {
   "cell_type": "markdown",
   "id": "c8817bf5-d8e0-457e-bb52-20d452ba0f54",
   "metadata": {},
   "source": [
    "AFZ, NFZ, MFZ are not necessary column. Data is too skewed to one direction."
   ]
  },
  {
   "cell_type": "code",
   "execution_count": 84,
   "id": "aadd1d5b-4d32-40d1-b5cb-58a29f8536fa",
   "metadata": {},
   "outputs": [],
   "source": [
    "df = df.drop(['AFZ','NFZ','MFZ'],axis=1)"
   ]
  },
  {
   "cell_type": "code",
   "execution_count": 85,
   "id": "f2c77992-d422-446e-977d-9c94702da66f",
   "metadata": {},
   "outputs": [
    {
     "data": {
      "text/plain": [
       "37306"
      ]
     },
     "execution_count": 85,
     "metadata": {},
     "output_type": "execute_result"
    }
   ],
   "source": [
    "len(df['class'])"
   ]
  },
  {
   "cell_type": "code",
   "execution_count": 86,
   "id": "755b8c9c-3dfc-40da-bcb3-e1c3d68ca7df",
   "metadata": {},
   "outputs": [
    {
     "name": "stdout",
     "output_type": "stream",
     "text": [
      "class: [0 1 2]\n",
      "Night: [0 1]\n",
      "WS: [0 1]\n",
      "Base: [5. 2.]\n"
     ]
    }
   ],
   "source": [
    "# I have a suspicion that columns with a small number of unique values are not as helpful. But let's explore\n",
    "for i in df.columns:\n",
    "    if len(df[i].unique()) < 10:\n",
    "        print(\"{}: {}\".format(i, df[i].unique()))\n",
    "    # print(len(df[i].unique()))\n",
    "    # big_values = ['Length', 'Gap', 'Press', 'p1l', 'p2l']\n",
    "    # if i in big_values:\n",
    "    #     continue\n",
    "    # print(\"{}: {}\".format(i, df[i].unique()))"
   ]
  },
  {
   "cell_type": "code",
   "execution_count": 87,
   "id": "2899b539-79d9-449c-9686-73330dcb883a",
   "metadata": {},
   "outputs": [
    {
     "data": {
      "text/plain": [
       "10157"
      ]
     },
     "execution_count": 87,
     "metadata": {},
     "output_type": "execute_result"
    }
   ],
   "source": [
    "len(df[df['WS']==1])"
   ]
  },
  {
   "cell_type": "code",
   "execution_count": 88,
   "id": "719bae55-49ec-442e-a243-96e3bacfcce4",
   "metadata": {},
   "outputs": [
    {
     "data": {
      "text/plain": [
       "27149"
      ]
     },
     "execution_count": 88,
     "metadata": {},
     "output_type": "execute_result"
    }
   ],
   "source": [
    "len(df[df['WS']==0])"
   ]
  },
  {
   "cell_type": "code",
   "execution_count": 89,
   "id": "ac98eecc-0d78-4029-b5b5-abf523ac30d3",
   "metadata": {},
   "outputs": [
    {
     "data": {
      "text/plain": [
       "21925"
      ]
     },
     "execution_count": 89,
     "metadata": {},
     "output_type": "execute_result"
    }
   ],
   "source": [
    "len(df[df['Base']==5.])"
   ]
  },
  {
   "cell_type": "code",
   "execution_count": 90,
   "id": "a5c444e1-d79b-4ca6-8abc-104bf7d8c051",
   "metadata": {},
   "outputs": [
    {
     "data": {
      "text/plain": [
       "15381"
      ]
     },
     "execution_count": 90,
     "metadata": {},
     "output_type": "execute_result"
    }
   ],
   "source": [
    "len(df[df['Base']==2.])"
   ]
  },
  {
   "cell_type": "markdown",
   "id": "216ce14f-cc78-4855-a28d-9c7416a5a7df",
   "metadata": {},
   "source": [
    "There seems to be a lot of data for the binary classifers of WS and Base. Could WS or Base be present more often in incident 1 or 2?"
   ]
  },
  {
   "cell_type": "code",
   "execution_count": 91,
   "id": "0bb9f29e-a1d9-4a8f-a8b0-1c4721522ff4",
   "metadata": {},
   "outputs": [
    {
     "data": {
      "text/plain": [
       "10157"
      ]
     },
     "execution_count": 91,
     "metadata": {},
     "output_type": "execute_result"
    }
   ],
   "source": [
    "ws_class0 = len(df.loc[df['WS']==1])\n",
    "ws_class0"
   ]
  },
  {
   "cell_type": "code",
   "execution_count": 92,
   "id": "5bf0934f-2803-465a-881b-04035b48715f",
   "metadata": {},
   "outputs": [],
   "source": [
    "# using logestic regression\n",
    "y = df['class']\n",
    "X = df.iloc[:, df.columns != 'class']"
   ]
  },
  {
   "cell_type": "code",
   "execution_count": 93,
   "id": "2db9aa29-9889-4339-a3ce-bbe15dd03f1e",
   "metadata": {},
   "outputs": [],
   "source": [
    "X_train, X_test, y_train, y_test = train_test_split(X, y, test_size = 20, stratify=y)"
   ]
  },
  {
   "cell_type": "code",
   "execution_count": 96,
   "id": "e8c652f9-68d7-48e0-9ccb-09c759f00e58",
   "metadata": {},
   "outputs": [],
   "source": [
    "scaler = preprocessing.StandardScaler().fit(X_train)\n",
    "X_train_scaled = pd.DataFrame(scaler.transform(X_train), columns = X_train.columns)\n",
    "X_test_scaled = pd.DataFrame(scaler.transform(X_test), columns = X_test.columns)"
   ]
  },
  {
   "cell_type": "code",
   "execution_count": null,
   "id": "03b37cb5-123c-453a-8dd8-c617f7bb03ab",
   "metadata": {},
   "outputs": [],
   "source": []
  },
  {
   "cell_type": "code",
   "execution_count": 97,
   "id": "386ab8d9-9339-46ee-8383-e101fa369afb",
   "metadata": {},
   "outputs": [
    {
     "name": "stdout",
     "output_type": "stream",
     "text": [
      "The accuracy for the training set is 93.50%\n",
      "The accuracy for the test set is 95.00%\n"
     ]
    }
   ],
   "source": [
    "model = LogisticRegression();\n",
    "model.fit(X_train_scaled, y_train)\n",
    "train_accuracy = model.score(X_train_scaled, y_train)\n",
    "print(f'The accuracy for the training set is {100 * train_accuracy:.2f}%')\n",
    "test_accuracy = model.score(X_test_scaled, y_test)\n",
    "print(f'The accuracy for the test set is {100 * test_accuracy:.2f}%')"
   ]
  },
  {
   "cell_type": "code",
   "execution_count": 98,
   "id": "b5524c6a-20c1-411b-92fe-fac0c89810c9",
   "metadata": {},
   "outputs": [
    {
     "name": "stdout",
     "output_type": "stream",
     "text": [
      "The accuracy for the test set is 5.00%\n"
     ]
    }
   ],
   "source": [
    "test_accuracy = model.score(X_test, y_test)\n",
    "print(f'The accuracy for the test set is {100 * test_accuracy:.2f}%')"
   ]
  },
  {
   "cell_type": "code",
   "execution_count": 99,
   "id": "2c7899ce-2de1-436d-a9bb-82f697415337",
   "metadata": {},
   "outputs": [
    {
     "name": "stdout",
     "output_type": "stream",
     "text": [
      "The accuracy for the training set is 93.22%\n",
      "The accuracy for the test set is 95.00%\n"
     ]
    }
   ],
   "source": [
    "model2 = LogisticRegression();\n",
    "model2.fit(X_train, y_train)\n",
    "train_accuracy = model2.score(X_train, y_train)\n",
    "print(f'The accuracy for the training set is {100 * train_accuracy:.2f}%')\n",
    "test_accuracy = model2.score(X_test, y_test)\n",
    "print(f'The accuracy for the test set is {100 * test_accuracy:.2f}%')"
   ]
  },
  {
   "cell_type": "markdown",
   "id": "356ede11-261e-4908-ac39-9ca73359aad7",
   "metadata": {},
   "source": [
    "My analysis is inconclusive. However, based on the data, I do not believe there are features that are specific for incident 1 and incident 2. In the future, I would like to replace all class = 2 values to class = 1, turning the class into a binary classifier. According to KNN as well as the Logestic regressor, I've received about a 93 - 94% accuracy. But even this may be a bit skewed. Most of the class is labeled as 0 (having no accident) at around this same percentage. So even if the model predicted 0's for everything (which is obviously incorrect), the model would still calculate an accuracy of 93ish%. Many features could be ignored in the data set. Primary culprits include features where the values of heavily imbalanced, such as in AFZ NFZ MFZ. Also, it was difficult to figure out what these columns mean. It was best to just eliminate them for now. In the future, I would like to re-look at the data without the extraneous columns, and maybe I'd be able to discover some more secrets within the dataset. "
   ]
  },
  {
   "cell_type": "code",
   "execution_count": null,
   "id": "aaf49fb1-e526-474c-b32a-e04f11b50463",
   "metadata": {},
   "outputs": [],
   "source": []
  }
 ],
 "metadata": {
  "kernelspec": {
   "display_name": "Python 3 (ipykernel)",
   "language": "python",
   "name": "python3"
  },
  "language_info": {
   "codemirror_mode": {
    "name": "ipython",
    "version": 3
   },
   "file_extension": ".py",
   "mimetype": "text/x-python",
   "name": "python",
   "nbconvert_exporter": "python",
   "pygments_lexer": "ipython3",
   "version": "3.9.13"
  }
 },
 "nbformat": 4,
 "nbformat_minor": 5
}
